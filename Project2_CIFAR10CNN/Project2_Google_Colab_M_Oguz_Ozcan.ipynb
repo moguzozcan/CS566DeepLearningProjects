{
  "nbformat": 4,
  "nbformat_minor": 0,
  "metadata": {
    "colab": {
      "name": "Project2_M_Oguz_Ozcan.ipynb",
      "version": "0.3.2",
      "views": {},
      "default_view": {},
      "provenance": [],
      "collapsed_sections": []
    },
    "kernelspec": {
      "display_name": "Python 3",
      "language": "python",
      "name": "python3"
    },
    "accelerator": "GPU"
  },
  "cells": [
    {
      "metadata": {
        "id": "bvLFyMVDHn7S",
        "colab_type": "text"
      },
      "cell_type": "markdown",
      "source": [
        "## Firstly download CIFAR-1O dataset"
      ]
    },
    {
      "metadata": {
        "id": "qgJSNGWyHn7W",
        "colab_type": "code",
        "colab": {
          "autoexec": {
            "startup": false,
            "wait_interval": 0
          }
        }
      },
      "cell_type": "code",
      "source": [
        "import tensorflow as tf\n",
        "import numpy as np\n",
        "import matplotlib.pyplot as plt"
      ],
      "execution_count": 0,
      "outputs": []
    },
    {
      "metadata": {
        "id": "_gd2Wcwl1RUD",
        "colab_type": "code",
        "colab": {
          "autoexec": {
            "startup": false,
            "wait_interval": 0
          },
          "base_uri": "https://localhost:8080/",
          "height": 104
        },
        "outputId": "f80e3245-3182-4461-bb53-95875d4d28e5",
        "executionInfo": {
          "status": "ok",
          "timestamp": 1523851380398,
          "user_tz": -180,
          "elapsed": 31302,
          "user": {
            "displayName": "M. Oğuz Özcan",
            "photoUrl": "https://lh3.googleusercontent.com/a/default-user=s128",
            "userId": "109471889581695523885"
          }
        }
      },
      "cell_type": "code",
      "source": [
        "!apt-get install -y -qq software-properties-common python-software-properties module-init-tools\n",
        "!add-apt-repository -y ppa:alessandro-strada/ppa 2>&1 > /dev/null\n",
        "!apt-get update -qq 2>&1 > /dev/null\n",
        "!apt-get -y install -qq google-drive-ocamlfuse fuse\n",
        "from google.colab import auth\n",
        "auth.authenticate_user()\n",
        "from oauth2client.client import GoogleCredentials\n",
        "creds = GoogleCredentials.get_application_default()\n",
        "import getpass\n",
        "!google-drive-ocamlfuse -headless -id={creds.client_id} -secret={creds.client_secret} < /dev/null 2>&1 | grep URL\n",
        "vcode = getpass.getpass()\n",
        "!echo {vcode} | google-drive-ocamlfuse -headless -id={creds.client_id} -secret={creds.client_secret}"
      ],
      "execution_count": 3,
      "outputs": [
        {
          "output_type": "stream",
          "text": [
            "Please, open the following URL in a web browser: https://accounts.google.com/o/oauth2/auth?client_id=32555940559.apps.googleusercontent.com&redirect_uri=urn%3Aietf%3Awg%3Aoauth%3A2.0%3Aoob&scope=https%3A%2F%2Fwww.googleapis.com%2Fauth%2Fdrive&response_type=code&access_type=offline&approval_prompt=force\r\n",
            "··········\n",
            "Please, open the following URL in a web browser: https://accounts.google.com/o/oauth2/auth?client_id=32555940559.apps.googleusercontent.com&redirect_uri=urn%3Aietf%3Awg%3Aoauth%3A2.0%3Aoob&scope=https%3A%2F%2Fwww.googleapis.com%2Fauth%2Fdrive&response_type=code&access_type=offline&approval_prompt=force\n",
            "Please enter the verification code: Access token retrieved correctly.\n"
          ],
          "name": "stdout"
        }
      ]
    },
    {
      "metadata": {
        "id": "roMEtcWi1HOI",
        "colab_type": "code",
        "colab": {
          "autoexec": {
            "startup": false,
            "wait_interval": 0
          }
        }
      },
      "cell_type": "code",
      "source": [
        "!mkdir -p drive\n",
        "!google-drive-ocamlfuse drive"
      ],
      "execution_count": 0,
      "outputs": []
    },
    {
      "metadata": {
        "id": "RUCt-q9e00T2",
        "colab_type": "code",
        "colab": {
          "autoexec": {
            "startup": false,
            "wait_interval": 0
          },
          "base_uri": "https://localhost:8080/",
          "height": 219
        },
        "outputId": "8b95882b-7d48-4963-8d31-424d7d193fdd",
        "executionInfo": {
          "status": "ok",
          "timestamp": 1523851399274,
          "user_tz": -180,
          "elapsed": 5070,
          "user": {
            "displayName": "M. Oğuz Özcan",
            "photoUrl": "https://lh3.googleusercontent.com/a/default-user=s128",
            "userId": "109471889581695523885"
          }
        }
      },
      "cell_type": "code",
      "source": [
        "import os\n",
        "!ls\n",
        "os.chdir(\"drive/Akademik/Ozyegin/CS566/Project 2\")\n",
        "!ls"
      ],
      "execution_count": 6,
      "outputs": [
        {
          "output_type": "stream",
          "text": [
            "datalab  drive\n",
            "06_lasso_and_ridge_regression.ipynb\n",
            "data\n",
            "drive\n",
            "FK.docx\n",
            "muhammet_oguz_ozcan_cs566_project_2_report.docx\n",
            "Project2_M_Oguz_Ozcan.ipynb\n",
            "project2.pdf\n",
            "__pycache__\n",
            "tmp_data\n",
            "TrainModel_SaveToDisk_CS566_M_Oguz_Ozcan.ipynb\n",
            "~WRL1236.tmp\n"
          ],
          "name": "stdout"
        }
      ]
    },
    {
      "metadata": {
        "id": "xgNf_4D3Hn7q",
        "colab_type": "code",
        "colab": {
          "autoexec": {
            "startup": false,
            "wait_interval": 0
          },
          "base_uri": "https://localhost:8080/",
          "height": 51
        },
        "outputId": "913e216a-37f2-4a22-fdf8-24187593b452",
        "executionInfo": {
          "status": "ok",
          "timestamp": 1523851401215,
          "user_tz": -180,
          "elapsed": 615,
          "user": {
            "displayName": "M. Oğuz Özcan",
            "photoUrl": "https://lh3.googleusercontent.com/a/default-user=s128",
            "userId": "109471889581695523885"
          }
        }
      },
      "cell_type": "code",
      "source": [
        "#The url of the CIFAR-10 data and the path of where to download\n",
        "url = \"https://www.cs.toronto.edu/~kriz/cifar-10-python.tar.gz\"\n",
        "download_dir = \"data/CIFAR-10/\"\n",
        "\n",
        "base_dir = os.getcwd()\n",
        "\n",
        "print(base_dir)\n",
        "file_path = 'data/CIFAR-10/'\n",
        "download_path = os.path.join(base_dir, file_path)\n",
        "print(download_path)"
      ],
      "execution_count": 7,
      "outputs": [
        {
          "output_type": "stream",
          "text": [
            "/content/drive/Akademik/Ozyegin/CS566/Project 2\n",
            "/content/drive/Akademik/Ozyegin/CS566/Project 2/data/CIFAR-10/\n"
          ],
          "name": "stdout"
        }
      ]
    },
    {
      "metadata": {
        "id": "-_YlJeelHn7t",
        "colab_type": "code",
        "colab": {
          "autoexec": {
            "startup": false,
            "wait_interval": 0
          }
        }
      },
      "cell_type": "code",
      "source": [
        "########################################################################\n",
        "#\n",
        "# Functions for downloading and extracting data-files from the internet.\n",
        "#\n",
        "# Implemented in Python 3.5\n",
        "#\n",
        "########################################################################\n",
        "#\n",
        "# This file is part of the TensorFlow Tutorials available at:\n",
        "#\n",
        "# https://github.com/Hvass-Labs/TensorFlow-Tutorials\n",
        "#\n",
        "# Published under the MIT License. See the file LICENSE for details.\n",
        "#\n",
        "# Copyright 2016 by Magnus Erik Hvass Pedersen\n",
        "#\n",
        "########################################################################\n",
        "\n",
        "import sys\n",
        "import os\n",
        "import urllib.request\n",
        "import tarfile\n",
        "\n",
        "########################################################################\n",
        "\n",
        "\n",
        "def _print_download_progress(count, block_size, total_size):\n",
        "    \"\"\"\n",
        "    Function used for printing the download progress.\n",
        "    Used as a call-back function in maybe_download_and_extract().\n",
        "    \"\"\"\n",
        "\n",
        "    # Percentage completion.\n",
        "    pct_complete = float(count * block_size) / total_size\n",
        "\n",
        "    # Status-message. Note the \\r which means the line should overwrite itself.\n",
        "    msg = \"\\r- Download progress: {0:.1%}\".format(pct_complete)\n",
        "\n",
        "    # Print it.\n",
        "    sys.stdout.write(msg)\n",
        "    sys.stdout.flush()\n",
        "\n",
        "\n",
        "########################################################################\n",
        "\n",
        "\n",
        "def maybe_download_and_extract(url, download_dir):\n",
        "    \"\"\"\n",
        "    Download and extract the data if it doesn't already exist.\n",
        "    Assumes the url is a tar-ball file.\n",
        "    :param url:\n",
        "        Internet URL for the tar-file to download.\n",
        "        Example: \"https://www.cs.toronto.edu/~kriz/cifar-10-python.tar.gz\"\n",
        "    :param download_dir:\n",
        "        Directory where the downloaded file is saved.\n",
        "        Example: \"data/CIFAR-10/\"\n",
        "    :return:\n",
        "        Nothing.\n",
        "    \"\"\"\n",
        "\n",
        "    # Filename for saving the file downloaded from the internet.\n",
        "    # Use the filename from the URL and add it to the download_dir.\n",
        "    filename = url.split('/')[-1]\n",
        "    file_path = os.path.join(download_dir, filename)\n",
        "\n",
        "    # Check if the file already exists.\n",
        "    # If it exists then we assume it has also been extracted,\n",
        "    # otherwise we need to download and extract it now.\n",
        "    if not os.path.exists(file_path):\n",
        "        # Check if the download directory exists, otherwise create it.\n",
        "        if not os.path.exists(download_dir):\n",
        "            os.makedirs(download_dir)\n",
        "\n",
        "        # Download the file from the internet.\n",
        "        file_path, _ = urllib.request.urlretrieve(url=url,\n",
        "                                                  filename=file_path,\n",
        "                                                  reporthook=_print_download_progress)\n",
        "\n",
        "        print()\n",
        "        print(\"Download finished. Extracting files.\")\n",
        "\n",
        "        # Unpack the tar-ball.\n",
        "        tarfile.open(name=file_path, mode=\"r:gz\").extractall(download_dir)\n",
        "\n",
        "        print(\"Done.\")\n",
        "    else:\n",
        "        print(\"unpacking...\")\n",
        "\t# Unpack the tar-ball.\n",
        "        tarfile.open(name=file_path, mode=\"r:gz\").extractall(download_dir)\n",
        "        print(\"Data has apparently already been downloaded and unpacked!\")\n",
        "\n",
        "\n",
        "########################################################################"
      ],
      "execution_count": 0,
      "outputs": []
    },
    {
      "metadata": {
        "id": "-pLWPtN2Hn7w",
        "colab_type": "code",
        "colab": {
          "autoexec": {
            "startup": false,
            "wait_interval": 0
          },
          "base_uri": "https://localhost:8080/",
          "height": 51
        },
        "outputId": "f8b48e6d-9239-4d7f-fd53-44a37e7dd4d1",
        "executionInfo": {
          "status": "ok",
          "timestamp": 1523851648378,
          "user_tz": -180,
          "elapsed": 240817,
          "user": {
            "displayName": "M. Oğuz Özcan",
            "photoUrl": "https://lh3.googleusercontent.com/a/default-user=s128",
            "userId": "109471889581695523885"
          }
        }
      },
      "cell_type": "code",
      "source": [
        "maybe_download_and_extract(url, download_path)  #download_dir"
      ],
      "execution_count": 9,
      "outputs": [
        {
          "output_type": "stream",
          "text": [
            "unpacking...\n",
            "Data has apparently already been downloaded and unpacked!\n"
          ],
          "name": "stdout"
        }
      ]
    },
    {
      "metadata": {
        "id": "c-FI1EG4Hn71",
        "colab_type": "text"
      },
      "cell_type": "markdown",
      "source": [
        "### Unpickle function for serialized images"
      ]
    },
    {
      "metadata": {
        "id": "30xEsTV_Hn72",
        "colab_type": "code",
        "colab": {
          "autoexec": {
            "startup": false,
            "wait_interval": 0
          }
        }
      },
      "cell_type": "code",
      "source": [
        "def unpickle(file):\n",
        "    import pickle\n",
        "    with open(file, 'rb') as fo:\n",
        "        dict = pickle.load(fo, encoding='bytes')\n",
        "    return dict"
      ],
      "execution_count": 0,
      "outputs": []
    },
    {
      "metadata": {
        "id": "-hMqkyK-Hn75",
        "colab_type": "text"
      },
      "cell_type": "markdown",
      "source": [
        "### Function to reshape images from (50000, 3072) to (50000, 32, 32, 3) or (10000, 3072) to (10000, 32, 32, 3)"
      ]
    },
    {
      "metadata": {
        "id": "2t5Y9IkaHn77",
        "colab_type": "code",
        "colab": {
          "autoexec": {
            "startup": false,
            "wait_interval": 0
          }
        }
      },
      "cell_type": "code",
      "source": [
        "def prepare_input(data=None, labels=None):\n",
        "    image_height = 32 \n",
        "    image_width = 32\n",
        "    image_depth = 3\n",
        "    \n",
        "    assert(data.shape[1] == image_height * image_width * image_depth)\n",
        "    assert(data.shape[0] == labels.shape[0])\n",
        "    #do mean normaization across all samples\n",
        "    mu = np.mean(data, axis=0)\n",
        "    mu = mu.reshape(1,-1)\n",
        "    sigma = np.std(data, axis=0)\n",
        "    sigma = sigma.reshape(1, -1)\n",
        "    data = data - mu\n",
        "    data = data / sigma\n",
        "    is_nan = np.isnan(data)\n",
        "    is_inf = np.isinf(data)\n",
        "    if np.any(is_nan) or np.any(is_inf):\n",
        "        print('data is not well-formed : is_nan {n}, is_inf: {i}'.format(n= np.any(is_nan), i=np.any(is_inf)))\n",
        "    #data is transformed from (no_of_samples, 3072) to (no_of_samples , image_height, image_width, image_depth)\n",
        "    #make sure the type of the data is no.float32\n",
        "    data = data.reshape([-1,image_depth, image_height, image_width])\n",
        "    data = data.transpose([0, 2, 3, 1])\n",
        "    data = data.astype(np.float32)\n",
        "    return data, labels"
      ],
      "execution_count": 0,
      "outputs": []
    },
    {
      "metadata": {
        "id": "ZNmGSFCSHn7-",
        "colab_type": "text"
      },
      "cell_type": "markdown",
      "source": [
        "### Loading data and store them in global arrays, train data, test data and labels for classes"
      ]
    },
    {
      "metadata": {
        "id": "Kg9Lnp51Hn7_",
        "colab_type": "code",
        "colab": {
          "autoexec": {
            "startup": false,
            "wait_interval": 0
          }
        }
      },
      "cell_type": "code",
      "source": [
        "def load_data(data_path=None):\n",
        "    import os\n",
        "    from os import walk\n",
        "    from numpy import array\n",
        "    \n",
        "    print(\"data_path\", data_path)\n",
        "    print(\"download_path\", download_path)\n",
        "    if data_path is None:\n",
        "        base_dir = os.getcwd()\n",
        "        file_path = 'cifar-10-batches-py'\n",
        "        data_path = os.path.join(download_path, file_path)\n",
        "        print(data_path)\n",
        "    \n",
        "    #Create variables to combine 5 batch training images and their labels\n",
        "    train_data = []\n",
        "    train_labels = []\n",
        "\n",
        "    for (dirpath, dirnames, filenames) in walk(data_path):\n",
        "        for file in filenames:\n",
        "            if \"data_batch\" in file:\n",
        "                rel_file_path = os.path.join(data_path, file)\n",
        "                print('Reading file:', rel_file_path)\n",
        "                d=unpickle(rel_file_path)\n",
        "                train_data.append(d[b'data'])\n",
        "                train_labels.append(d[b'labels'])\n",
        "\n",
        "    #Now concatenate all the data and labels array in one array with size of 50000\n",
        "    #print(train_labels)\n",
        "    #print(train_data)\n",
        "    \n",
        "    train_data, train_labels = (np.concatenate(train_data).astype(np.float32), np.concatenate(train_labels).astype(np.int32))\n",
        "    print('Lenght of the train images:', len(train_data))\n",
        "    print('Lenght of the train labels:', len(train_labels))\n",
        "    print('Shape of the train images:', train_data.shape)\n",
        "    print('Shape of the train labels:', train_labels.shape)\n",
        "\n",
        "    #Now read test data, which is in test_batch file\n",
        "    #Create variables to hold test data and corresponding labels\n",
        "    test_data = []\n",
        "    test_labels = []\n",
        "\n",
        "    test_rel_file_path = os.path.join(data_path, 'test_batch')\n",
        "    print('Reading file:', test_rel_file_path)\n",
        "    d = unpickle(test_rel_file_path)\n",
        "\n",
        "    #Convert to numpy array to be able to reshape using prepare_input method\n",
        "    test_data = array(d[b'data'])\n",
        "    test_labels = array(d[b'labels'])\n",
        "\n",
        "    print('Lenght of the test images:', len(test_data))\n",
        "    print('Lenght of the test labels:', len(test_labels))\n",
        "    print('Shape of the test images:', test_data.shape)\n",
        "    print('Shape of the test labels:', test_labels.shape)\n",
        "\n",
        "    #Now let's read label_names which exists in batches.meta file\n",
        "    label_names_rel_path = os.path.join(data_path, 'batches.meta')\n",
        "    label_names = unpickle(label_names_rel_path)[b'label_names']\n",
        "\n",
        "    print('Lenght of the label images:', len(label_names))\n",
        "    print(label_names)\n",
        "    \n",
        "    train_data, train_labels = prepare_input(train_data, train_labels)\n",
        "    test_data, test_labels = prepare_input(test_data, test_labels)\n",
        "    print(\"train_data\", train_data.shape)\n",
        "    print(\"train_labels\", train_labels.shape)\n",
        "    print(\"test_data\", test_data.shape)\n",
        "    print(\"test_labels\", test_labels.shape)\n",
        "    train_labels = (np.arange(10) == train_labels[:, None]).astype(np.float32)\n",
        "    test_labels = (np.arange(10) == test_labels[:, None]).astype(np.float32)\n",
        "    print(\"train_labels\", train_labels.shape)\n",
        "    print(\"test_labels\", test_labels.shape)\n",
        "    \n",
        "    #Create global variables to use train, test and label data outside\n",
        "    global g_train_data, g_test_data, g_label_names, g_train_labels, g_test_labels\n",
        "    \n",
        "    g_train_data = train_data\n",
        "    g_train_labels =  train_labels\n",
        "    g_test_data = test_data\n",
        "    g_test_labels = test_labels\n",
        "    g_label_names = label_names    \n",
        "    \n",
        "    return train_data, train_labels, test_data, test_labels, label_names"
      ],
      "execution_count": 0,
      "outputs": []
    },
    {
      "metadata": {
        "id": "ET2PGckLHn8D",
        "colab_type": "code",
        "colab": {
          "autoexec": {
            "startup": false,
            "wait_interval": 0
          },
          "base_uri": "https://localhost:8080/",
          "height": 437
        },
        "outputId": "e63fb8b6-0940-42d3-a67a-0fb84b2162b6",
        "executionInfo": {
          "status": "ok",
          "timestamp": 1523851734051,
          "user_tz": -180,
          "elapsed": 7686,
          "user": {
            "displayName": "M. Oğuz Özcan",
            "photoUrl": "https://lh3.googleusercontent.com/a/default-user=s128",
            "userId": "109471889581695523885"
          }
        }
      },
      "cell_type": "code",
      "source": [
        "g_train_data, g_train_labels, g_test_data, g_test_labels, g_label_names = load_data()"
      ],
      "execution_count": 13,
      "outputs": [
        {
          "output_type": "stream",
          "text": [
            "data_path None\n",
            "download_path /content/drive/Akademik/Ozyegin/CS566/Project 2/data/CIFAR-10/\n",
            "/content/drive/Akademik/Ozyegin/CS566/Project 2/data/CIFAR-10/cifar-10-batches-py\n",
            "Reading file: /content/drive/Akademik/Ozyegin/CS566/Project 2/data/CIFAR-10/cifar-10-batches-py/data_batch_4\n",
            "Reading file: /content/drive/Akademik/Ozyegin/CS566/Project 2/data/CIFAR-10/cifar-10-batches-py/data_batch_1\n",
            "Reading file: /content/drive/Akademik/Ozyegin/CS566/Project 2/data/CIFAR-10/cifar-10-batches-py/data_batch_5\n",
            "Reading file: /content/drive/Akademik/Ozyegin/CS566/Project 2/data/CIFAR-10/cifar-10-batches-py/data_batch_2\n",
            "Reading file: /content/drive/Akademik/Ozyegin/CS566/Project 2/data/CIFAR-10/cifar-10-batches-py/data_batch_3\n",
            "Lenght of the train images: 50000\n",
            "Lenght of the train labels: 50000\n",
            "Shape of the train images: (50000, 3072)\n",
            "Shape of the train labels: (50000,)\n",
            "Reading file: /content/drive/Akademik/Ozyegin/CS566/Project 2/data/CIFAR-10/cifar-10-batches-py/test_batch\n",
            "Lenght of the test images: 10000\n",
            "Lenght of the test labels: 10000\n",
            "Shape of the test images: (10000, 3072)\n",
            "Shape of the test labels: (10000,)\n",
            "Lenght of the label images: 10\n",
            "[b'airplane', b'automobile', b'bird', b'cat', b'deer', b'dog', b'frog', b'horse', b'ship', b'truck']\n",
            "train_data (50000, 32, 32, 3)\n",
            "train_labels (50000,)\n",
            "test_data (10000, 32, 32, 3)\n",
            "test_labels (10000,)\n",
            "train_labels (50000, 10)\n",
            "test_labels (10000, 10)\n"
          ],
          "name": "stdout"
        }
      ]
    },
    {
      "metadata": {
        "id": "RlfaA5icHn8O",
        "colab_type": "code",
        "colab": {
          "autoexec": {
            "startup": false,
            "wait_interval": 0
          }
        }
      },
      "cell_type": "code",
      "source": [
        ""
      ],
      "execution_count": 0,
      "outputs": []
    },
    {
      "metadata": {
        "id": "m9jKsm4Jhokf",
        "colab_type": "code",
        "colab": {
          "autoexec": {
            "startup": false,
            "wait_interval": 0
          }
        }
      },
      "cell_type": "code",
      "source": [
        "tf.flags.DEFINE_integer(\"batch_size\", 1000, \"Batch size during training\")"
      ],
      "execution_count": 0,
      "outputs": []
    },
    {
      "metadata": {
        "id": "qjjvyv9fdgrU",
        "colab_type": "code",
        "colab": {
          "autoexec": {
            "startup": false,
            "wait_interval": 0
          },
          "base_uri": "https://localhost:8080/",
          "height": 219
        },
        "outputId": "3ee81bfc-5c85-4f3e-cb5b-5f5b5d87f8f0",
        "executionInfo": {
          "status": "ok",
          "timestamp": 1523857293616,
          "user_tz": -180,
          "elapsed": 1080,
          "user": {
            "displayName": "M. Oğuz Özcan",
            "photoUrl": "https://lh3.googleusercontent.com/a/default-user=s128",
            "userId": "109471889581695523885"
          }
        }
      },
      "cell_type": "code",
      "source": [
        "g = tf.Graph()\n",
        "\n",
        "with g.as_default():   \n",
        "    X = tf.placeholder(name=\"X\", dtype=tf.float32, shape=[None, 32, 32, 3])  #32*32*3  32, 32, 3\n",
        "    Y = tf.placeholder(name=\"Y\", dtype=tf.float32, shape=[None, 10])\n",
        "\n",
        "    # define conv-layer variables\n",
        "    W_conv1 = tf.Variable(tf.truncated_normal(shape=[3, 3, 3, 64], stddev=0.03))    # first conv-layer has 32 kernels, size=5\n",
        "    b_conv1 = tf.Variable(tf.constant(0.1, shape=[64]))\n",
        "    W_conv2 = tf.Variable(tf.truncated_normal(shape=[3, 3, 64, 128], stddev=0.03))\n",
        "    b_conv2 = tf.Variable(tf.constant(0.1, shape=[128]))\n",
        "    W_conv3 = tf.Variable(tf.truncated_normal(shape=[3, 3, 128, 256], stddev=0.03))\n",
        "    b_conv3 = tf.Variable(tf.constant(0.1, shape=[256]))  #(?, 16, 16, 64)    \n",
        "    W_conv4 = tf.Variable(tf.truncated_normal(shape=[3, 3, 256, 512], stddev=0.03))    # first conv-layer has 32 kernels, size=5\n",
        "    b_conv4 = tf.Variable(tf.constant(0.1, shape=[512]))\n",
        "    \n",
        "    \n",
        "    #First Conv - Conv - Conv - Relu - MaxPool Layer\n",
        "    h_conv1 = tf.nn.conv2d(X, W_conv1, strides=[1, 1, 1, 1], padding='SAME') + b_conv1 \n",
        "    print(\"h_conv1\", h_conv1.shape)\n",
        "    \n",
        "    h_relu1 = tf.nn.relu(h_conv1)\n",
        "    print(\"h_relu1\", h_relu1.shape)\n",
        "    \n",
        "    h_pool1 = tf.nn.max_pool(h_relu1, ksize=[1, 2, 2, 1], strides=[1, 2, 2, 1], padding='SAME')\n",
        "    print(\"h_pool1\", h_pool1.shape)\n",
        "    \n",
        "    #Second Conv - Conv - Conv - Relu - MaxPool Layer\n",
        "    h_conv2 = tf.nn.conv2d(h_pool1, W_conv2, strides=[1, 1, 1, 1], padding='SAME') + b_conv2\n",
        "    print(\"h_conv2\", h_conv2.shape)\n",
        "    \n",
        "    h_relu2 = tf.nn.relu(h_conv2)\n",
        "    print(\"h_relu2\", h_relu2.shape)\n",
        "    \n",
        "    h_pool2 = tf.nn.max_pool(h_relu2, ksize=[1, 2, 2, 1], strides=[1, 2, 2, 1], padding='SAME')\n",
        "    print(\"h_pool2\", h_pool2.shape)    \n",
        "    \n",
        "    #Third Conv - Conv - Conv - Relu - MaxPool Layer\n",
        "    h_conv3 = tf.nn.conv2d(h_pool2, W_conv3, strides=[1, 1, 1, 1], padding='SAME') + b_conv3\n",
        "    print(\"h_conv3\", h_conv3.shape)\n",
        "    \n",
        "    h_relu3 = tf.nn.relu(h_conv3)\n",
        "    print(\"h_relu3\", h_relu3.shape)\n",
        "    \n",
        "    h_pool3 = tf.nn.max_pool(h_relu3, ksize=[1, 2, 2, 1], strides=[1, 2, 2, 1], padding='SAME')\n",
        "    print(\"h_pool1\", h_pool3.shape)\n",
        "\n",
        "    #Fourth Conv - Conv - Conv - Relu - MaxPool Layer\n",
        "    h_conv4 = tf.nn.conv2d(h_pool3, W_conv4, strides=[1, 1, 1, 1], padding='SAME') + b_conv4\n",
        "    print(\"h_conv4\", h_conv4.shape)\n",
        "    \n",
        "    h_relu4 = tf.nn.relu(h_conv4)\n",
        "    print(\"h_relu4\", h_relu4.shape)\n",
        "    \n",
        "    h_pool4 = tf.nn.max_pool(h_relu4, ksize=[1, 2, 2, 1], strides=[1, 2, 2, 1], padding='SAME')\n",
        "    print(\"h_pool4\", h_pool4.shape)\n",
        "    \n",
        "    # densely/fully connected layer\n",
        "    W_fc1 = tf.Variable(tf.truncated_normal(shape=[2 * 2 * 512, 1024], stddev=0.1)) \n",
        "    b_fc1 = tf.Variable(tf.constant(0.1, shape=[1024]))\n",
        "\n",
        "    h_pool2_flat = tf.reshape(h_pool4, [-1, 2*2*512])\n",
        "    h_fc1 = tf.nn.relu(tf.matmul(h_pool2_flat, W_fc1) + b_fc1)\n",
        "\n",
        "    # linear classifier\n",
        "    W_fc2 = tf.Variable(tf.truncated_normal(shape=[1024, 10], stddev=0.1)) \n",
        "    b_fc2 = tf.Variable(tf.constant(0.1, shape=[10])) \n",
        "\n",
        "    y_conv = tf.matmul(h_fc1, W_fc2) + b_fc2\n",
        "    cross_entropy_loss = tf.reduce_mean(tf.nn.softmax_cross_entropy_with_logits_v2(labels=Y, logits=y_conv))\n",
        "    train_step = tf.train.AdamOptimizer(1e-4).minimize(cross_entropy_loss)\n",
        "    \n",
        "    correct_prediction = tf.equal(tf.argmax(y_conv, 1), tf.argmax(Y, 1))\n",
        "    accuracy = tf.reduce_mean(tf.cast(correct_prediction, tf.float32))"
      ],
      "execution_count": 45,
      "outputs": [
        {
          "output_type": "stream",
          "text": [
            "h_conv1 (?, 32, 32, 64)\n",
            "h_relu1 (?, 32, 32, 64)\n",
            "h_pool1 (?, 16, 16, 64)\n",
            "h_conv2 (?, 16, 16, 128)\n",
            "h_relu2 (?, 16, 16, 128)\n",
            "h_pool2 (?, 8, 8, 128)\n",
            "h_conv3 (?, 8, 8, 256)\n",
            "h_relu3 (?, 8, 8, 256)\n",
            "h_pool1 (?, 4, 4, 256)\n",
            "h_conv4 (?, 4, 4, 512)\n",
            "h_relu4 (?, 4, 4, 512)\n",
            "h_pool4 (?, 2, 2, 512)\n"
          ],
          "name": "stdout"
        }
      ]
    },
    {
      "metadata": {
        "id": "8xJLgLrGHn8r",
        "colab_type": "code",
        "colab": {
          "autoexec": {
            "startup": false,
            "wait_interval": 0
          }
        }
      },
      "cell_type": "code",
      "source": [
        "config = tf.ConfigProto()\n",
        "config.gpu_options.allow_growth = True\n",
        "\n",
        "gpu_options = tf.GPUOptions(per_process_gpu_memory_fraction=0.333)\n",
        "cfg = tf.ConfigProto(gpu_options=gpu_options)\n",
        "\n",
        "sess = tf.InteractiveSession(graph=g, config=cfg)\n",
        "tf.global_variables_initializer().run()"
      ],
      "execution_count": 0,
      "outputs": []
    },
    {
      "metadata": {
        "id": "kpk-NQAiHn9T",
        "colab_type": "code",
        "colab": {
          "autoexec": {
            "startup": false,
            "wait_interval": 0
          }
        }
      },
      "cell_type": "code",
      "source": [
        "batch_size = 1000\n",
        "n_classes = 10\n",
        "\n",
        "# Add ops to save and restore all the variables.\n",
        "saver = tf.train.Saver()\n",
        "base_dir = os.getcwd()\n",
        "\n",
        "number_of_nonzeros_w1 = []\n",
        "number_of_zeros_w1 = []\n",
        "\n",
        "#file_path = 'model_no_regression/cnn_model'\n",
        "#model_path = os.path.join(base_dir, file_path)\n",
        "\n",
        "#print(model_path)\n",
        "\n",
        "def all_batches_run_train(n_batches, epoch_count, data=None, labels=None):\n",
        "    sum_all_batches_loss =0\n",
        "    sum_all_batches_acc=0\n",
        "    sum_n_samples=0\n",
        "    for b in range(n_batches):            \n",
        "        offset = b * batch_size\n",
        "        batch_data = data[offset : offset+batch_size, :, :, :]\n",
        "        n_samples = batch_data.shape[0]\n",
        "        batch_labels = labels[offset: offset+batch_size, :]\n",
        "        feed_dict = {X: batch_data, \n",
        "                     Y: batch_labels}\n",
        "        _, loss_value, a, pred, w1 = sess.run([train_step, cross_entropy_loss, accuracy, correct_prediction, W_conv1], feed_dict=feed_dict)         \n",
        "        \n",
        "        #Convert w1 to 1d array for simplicity\n",
        "        w1 = np.reshape(w1, (np.product(w1.shape),))\n",
        "        n_nonzeros = sum(i > 0.00001 for i in w1)\n",
        "        n_zeros = len(w1) - n_nonzeros\n",
        "        #print(\"Number of non_zeros:\", n_nonzeros)\n",
        "        #print(\"Number of zeros:\", n_zeros)\n",
        "        \n",
        "        number_of_nonzeros_w1.append(n_nonzeros)\n",
        "        number_of_zeros_w1.append(n_zeros)\n",
        "        \n",
        "        sum_all_batches_loss += loss_value * n_samples\n",
        "        sum_all_batches_acc += a * n_samples\n",
        "        sum_n_samples += n_samples\n",
        "\n",
        "    #Save model to /models/cnn_model.ckpt\n",
        "    #save_path = saver.save(sess, 'colab_no_regularization_model') # \"/models/cnn_model.ckpt\")\n",
        "    #print(\"Model saved in path: %s\" % save_path)\n",
        "    return (sum_all_batches_loss/sum_n_samples, sum_all_batches_acc/sum_n_samples, number_of_nonzeros_w1, number_of_zeros_w1)"
      ],
      "execution_count": 0,
      "outputs": []
    },
    {
      "metadata": {
        "id": "MFI7C9YtHn9Y",
        "colab_type": "code",
        "colab": {
          "autoexec": {
            "startup": false,
            "wait_interval": 0
          },
          "base_uri": "https://localhost:8080/",
          "height": 3313
        },
        "outputId": "07e109a6-4011-4464-90ea-1c003e2c2809",
        "executionInfo": {
          "status": "ok",
          "timestamp": 1523857903847,
          "user_tz": -180,
          "elapsed": 602935,
          "user": {
            "displayName": "M. Oğuz Özcan",
            "photoUrl": "https://lh3.googleusercontent.com/a/default-user=s128",
            "userId": "109471889581695523885"
          }
        }
      },
      "cell_type": "code",
      "source": [
        "config = tf.ConfigProto()\n",
        "config.gpu_options.allow_growth = True\n",
        "\n",
        "for i in range(50):  #40\n",
        "    print(\"Epoch\", i)\n",
        "    mean_loss_per_sample_train, accuracy_per_sample_train, number_of_nonzeros_w1, number_of_zeros_w1 = all_batches_run_train(50, i, g_train_data, g_train_labels) \n",
        "    print(mean_loss_per_sample_train)\n",
        "    print(accuracy_per_sample_train)\n",
        "    \n",
        "x_coordinate_non_zeros = [i for i in range(len(number_of_nonzeros_w1))]\n",
        "fig = plt.figure()\n",
        "plt.plot(x_coordinate_non_zeros,number_of_nonzeros_w1)\n",
        "fig.suptitle('Number of Nonzeros in W1', fontsize=20)\n",
        "plt.xlabel('Number of Batches : 1000', fontsize=16)\n",
        "plt.ylabel('Number of Nonzeros', fontsize=16)\n",
        "plt.show()\n",
        "\n",
        "x_coordinate_zeros = [i for i in range(len(number_of_zeros_w1))]\n",
        "fig = plt.figure()\n",
        "plt.plot(x_coordinate_zeros,number_of_zeros_w1)\n",
        "fig.suptitle('Number of Zeros in W1', fontsize=20)\n",
        "plt.xlabel('Number of Batches : 1000', fontsize=16)\n",
        "plt.ylabel('Number of Zeros', fontsize=16)\n",
        "plt.show()"
      ],
      "execution_count": 48,
      "outputs": [
        {
          "output_type": "stream",
          "text": [
            "Epoch 0\n",
            "2.498682963848114\n",
            "0.22101999908685685\n",
            "Epoch 1\n",
            "1.7914849352836608\n",
            "0.37440000116825106\n",
            "Epoch 2\n",
            "1.594525785446167\n",
            "0.4438200008869171\n",
            "Epoch 3\n",
            "1.4553103423118592\n",
            "0.49003999888896943\n",
            "Epoch 4\n",
            "1.3519368767738342\n",
            "0.523400000333786\n",
            "Epoch 5\n",
            "1.2740502786636352\n",
            "0.5507799994945526\n",
            "Epoch 6\n",
            "1.2127901387214661\n",
            "0.5732400035858154\n",
            "Epoch 7\n",
            "1.1637030482292174\n",
            "0.5917799985408783\n",
            "Epoch 8\n",
            "1.1200257420539856\n",
            "0.60814000248909\n",
            "Epoch 9\n",
            "1.0805153512954713\n",
            "0.6235799968242646\n",
            "Epoch 10\n",
            "1.0446073067188264\n",
            "0.6369999992847443\n",
            "Epoch 11\n",
            "1.0118639886379241\n",
            "0.6502399957180023\n",
            "Epoch 12\n",
            "0.981015853881836\n",
            "0.6621200013160705\n",
            "Epoch 13\n",
            "0.9523709511756897\n",
            "0.6717800021171569\n",
            "Epoch 14\n",
            "0.9250013113021851\n",
            "0.6815200078487397\n",
            "Epoch 15\n",
            "0.8997439157962799\n",
            "0.6914800024032592\n",
            "Epoch 16\n",
            "0.8752198207378388\n",
            "0.7006199979782104\n",
            "Epoch 17\n",
            "0.8525294756889343\n",
            "0.7091800010204315\n",
            "Epoch 18\n",
            "0.8313500201702118\n",
            "0.7168200027942657\n",
            "Epoch 19\n",
            "0.8125647974014282\n",
            "0.7233599972724915\n",
            "Epoch 20\n",
            "0.7957746887207031\n",
            "0.7294400000572204\n",
            "Epoch 21\n",
            "0.7847616386413574\n",
            "0.7323400020599365\n",
            "Epoch 22\n",
            "0.7799639964103698\n",
            "0.733840000629425\n",
            "Epoch 23\n",
            "0.7521894776821136\n",
            "0.7436200022697449\n",
            "Epoch 24\n",
            "0.7323334038257598\n",
            "0.7512800014019012\n",
            "Epoch 25\n",
            "0.7117334914207458\n",
            "0.75885999917984\n",
            "Epoch 26\n",
            "0.6941362714767456\n",
            "0.765479998588562\n",
            "Epoch 27\n",
            "0.6772967529296875\n",
            "0.7727599978446961\n",
            "Epoch 28\n",
            "0.6600906920433044\n",
            "0.7803600001335144\n",
            "Epoch 29\n",
            "0.6426931583881378\n",
            "0.7866999971866607\n",
            "Epoch 30\n",
            "0.6251142466068268\n",
            "0.7945200037956238\n",
            "Epoch 31\n",
            "0.6082725298404693\n",
            "0.8005200004577637\n",
            "Epoch 32\n",
            "0.5907362902164459\n",
            "0.8066999995708466\n",
            "Epoch 33\n",
            "0.5725399160385132\n",
            "0.813639999628067\n",
            "Epoch 34\n",
            "0.5545767664909362\n",
            "0.8199399995803833\n",
            "Epoch 35\n",
            "0.5373579967021942\n",
            "0.8272799980640412\n",
            "Epoch 36\n",
            "0.5210982620716095\n",
            "0.833459997177124\n",
            "Epoch 37\n",
            "0.5057505810260773\n",
            "0.8391600000858307\n",
            "Epoch 38\n",
            "0.4906089562177658\n",
            "0.8440599989891052\n",
            "Epoch 39\n",
            "0.475697380900383\n",
            "0.8499600005149841\n",
            "Epoch 40\n",
            "0.4605283361673355\n",
            "0.8554400014877319\n",
            "Epoch 41\n",
            "0.44665616631507876\n",
            "0.8614000034332275\n",
            "Epoch 42\n",
            "0.4328293925523758\n",
            "0.866619998216629\n",
            "Epoch 43\n",
            "0.41966125309467317\n",
            "0.8711399984359741\n",
            "Epoch 44\n",
            "0.4086005038022995\n",
            "0.8747800028324128\n",
            "Epoch 45\n",
            "0.40758756041526795\n",
            "0.8737199985980988\n",
            "Epoch 46\n",
            "0.4297121685743332\n",
            "0.8587999951839447\n",
            "Epoch 47\n",
            "0.44100998699665067\n",
            "0.8513800001144409\n",
            "Epoch 48\n",
            "0.46387163519859315\n",
            "0.8398200035095215\n",
            "Epoch 49\n",
            "0.4849121183156967\n",
            "0.8298599970340729\n"
          ],
          "name": "stdout"
        },
        {
          "output_type": "display_data",
          "data": {
            "image/png": "[encoded data removed]",
            "text/plain": [
              "<matplotlib.figure.Figure at 0x7f140a5e55c0>"
            ]
          },
          "metadata": {
            "tags": []
          }
        },
        {
          "output_type": "display_data",
          "data": {
            "image/png": "[encoded data removed]",
            "text/plain": [
              "<matplotlib.figure.Figure at 0x7f1411d32518>"
            ]
          },
          "metadata": {
            "tags": []
          }
        }
      ]
    },
    {
      "metadata": {
        "id": "K7m-LxfSHn-E",
        "colab_type": "text"
      },
      "cell_type": "markdown",
      "source": [
        "### Run the network with test data"
      ]
    },
    {
      "metadata": {
        "id": "4zJ8CjxMHn-W",
        "colab_type": "code",
        "colab": {
          "autoexec": {
            "startup": false,
            "wait_interval": 0
          }
        }
      },
      "cell_type": "code",
      "source": [
        "batch_size = 1000\n",
        "n_classes = 10\n",
        "\n",
        "def all_batches_run_train(n_batches, data=None, labels=None):\n",
        "    sum_all_batches_loss =0\n",
        "    sum_all_batches_acc=0\n",
        "    sum_n_samples=0\n",
        "    for b in range(n_batches):            \n",
        "        offset = b * batch_size\n",
        "        batch_data = data[offset : offset+batch_size, :, :, :]\n",
        "        n_samples = batch_data.shape[0]\n",
        "        batch_labels = labels[offset: offset+batch_size, :]\n",
        "        feed_dict = {X: batch_data, Y: batch_labels}\n",
        "        _, loss_value, a, pred, w1 =sess.run([train_step, cross_entropy_loss, accuracy, correct_prediction, W_conv1], feed_dict=feed_dict)   #[step, loss, acc],\n",
        "\n",
        "        sum_all_batches_loss += loss_value * n_samples\n",
        "        sum_all_batches_acc += a * n_samples\n",
        "        sum_n_samples += n_samples\n",
        "        if(n_samples != batch_size):\n",
        "            print('n_samples =%d' % n_samples)\n",
        "    return (sum_all_batches_loss/sum_n_samples, sum_all_batches_acc/sum_n_samples)\n"
      ],
      "execution_count": 0,
      "outputs": []
    },
    {
      "metadata": {
        "id": "aCDo9b3QHn-k",
        "colab_type": "code",
        "colab": {
          "autoexec": {
            "startup": false,
            "wait_interval": 0
          },
          "base_uri": "https://localhost:8080/",
          "height": 67
        },
        "outputId": "ac9a0a15-c794-4298-abbb-264dd1be60e8",
        "executionInfo": {
          "status": "ok",
          "timestamp": 1523857920180,
          "user_tz": -180,
          "elapsed": 3630,
          "user": {
            "displayName": "M. Oğuz Özcan",
            "photoUrl": "https://lh3.googleusercontent.com/a/default-user=s128",
            "userId": "109471889581695523885"
          }
        }
      },
      "cell_type": "code",
      "source": [
        "for i in range(1):\n",
        "    print(\"Epoch\", i)\n",
        "    mean_loss_per_sample_train, accuracy_per_sample_train = all_batches_run_train(10, g_test_data, g_test_labels)\n",
        "    print(mean_loss_per_sample_train)\n",
        "    print(accuracy_per_sample_train)"
      ],
      "execution_count": 50,
      "outputs": [
        {
          "output_type": "stream",
          "text": [
            "Epoch 0\n",
            "0.9291427493095398\n",
            "0.7012000024318695\n"
          ],
          "name": "stdout"
        }
      ]
    },
    {
      "metadata": {
        "id": "cZo6K72EdALj",
        "colab_type": "code",
        "colab": {
          "autoexec": {
            "startup": false,
            "wait_interval": 0
          }
        }
      },
      "cell_type": "code",
      "source": [
        "sess.close()"
      ],
      "execution_count": 0,
      "outputs": []
    },
    {
      "metadata": {
        "id": "YgzzbiZNHn-v",
        "colab_type": "text"
      },
      "cell_type": "markdown",
      "source": [
        "## Now train the network with Lasso - L1 Regularization"
      ]
    },
    {
      "metadata": {
        "id": "XEQ5d8CCHn-v",
        "colab_type": "code",
        "colab": {
          "autoexec": {
            "startup": false,
            "wait_interval": 0
          }
        }
      },
      "cell_type": "code",
      "source": [
        ""
      ],
      "execution_count": 0,
      "outputs": []
    },
    {
      "metadata": {
        "id": "8Kjlvt9S-p2c",
        "colab_type": "code",
        "colab": {
          "autoexec": {
            "startup": false,
            "wait_interval": 0
          },
          "base_uri": "https://localhost:8080/",
          "height": 219
        },
        "outputId": "f78b02c6-bd5c-4882-f3c9-1986008149a8",
        "executionInfo": {
          "status": "ok",
          "timestamp": 1523860319016,
          "user_tz": -180,
          "elapsed": 1448,
          "user": {
            "displayName": "M. Oğuz Özcan",
            "photoUrl": "https://lh3.googleusercontent.com/a/default-user=s128",
            "userId": "109471889581695523885"
          }
        }
      },
      "cell_type": "code",
      "source": [
        "g = tf.Graph()\n",
        "\n",
        "with g.as_default():   \n",
        "    X = tf.placeholder(name=\"X\", dtype=tf.float32, shape=[None, 32, 32, 3])  #32*32*3  32, 32, 3\n",
        "    Y = tf.placeholder(name=\"Y\", dtype=tf.float32, shape=[None, 10])\n",
        "\n",
        "    # define conv-layer variables\n",
        "    W_conv1 = tf.Variable(tf.truncated_normal(shape=[3, 3, 3, 64], stddev=0.03))    # first conv-layer has 32 kernels, size=5\n",
        "    b_conv1 = tf.Variable(tf.constant(0.1, shape=[64]))\n",
        "    W_conv2 = tf.Variable(tf.truncated_normal(shape=[3, 3, 64, 128], stddev=0.03))\n",
        "    b_conv2 = tf.Variable(tf.constant(0.1, shape=[128]))\n",
        "    W_conv3 = tf.Variable(tf.truncated_normal(shape=[3, 3, 128, 256], stddev=0.03))\n",
        "    b_conv3 = tf.Variable(tf.constant(0.1, shape=[256]))  #(?, 16, 16, 64)    \n",
        "    W_conv4 = tf.Variable(tf.truncated_normal(shape=[3, 3, 256, 512], stddev=0.03))    # first conv-layer has 32 kernels, size=5\n",
        "    b_conv4 = tf.Variable(tf.constant(0.1, shape=[512]))\n",
        "    \n",
        "    \n",
        "    #First Conv - Conv - Conv - Relu - MaxPool Layer\n",
        "    h_conv1 = tf.nn.conv2d(X, W_conv1, strides=[1, 1, 1, 1], padding='SAME') + b_conv1 \n",
        "    print(\"h_conv1\", h_conv1.shape)\n",
        "    \n",
        "    h_relu1 = tf.nn.relu(h_conv1)\n",
        "    print(\"h_relu1\", h_relu1.shape)\n",
        "    \n",
        "    h_pool1 = tf.nn.max_pool(h_relu1, ksize=[1, 2, 2, 1], strides=[1, 2, 2, 1], padding='SAME')\n",
        "    print(\"h_pool1\", h_pool1.shape)\n",
        "    \n",
        "    #Second Conv - Conv - Conv - Relu - MaxPool Layer\n",
        "    h_conv2 = tf.nn.conv2d(h_pool1, W_conv2, strides=[1, 1, 1, 1], padding='SAME') + b_conv2\n",
        "    print(\"h_conv2\", h_conv2.shape)\n",
        "    \n",
        "    h_relu2 = tf.nn.relu(h_conv2)\n",
        "    print(\"h_relu2\", h_relu2.shape)\n",
        "    \n",
        "    h_pool2 = tf.nn.max_pool(h_relu2, ksize=[1, 2, 2, 1], strides=[1, 2, 2, 1], padding='SAME')\n",
        "    print(\"h_pool2\", h_pool2.shape)    \n",
        "    \n",
        "    #Third Conv - Conv - Conv - Relu - MaxPool Layer\n",
        "    h_conv3 = tf.nn.conv2d(h_pool2, W_conv3, strides=[1, 1, 1, 1], padding='SAME') + b_conv3\n",
        "    print(\"h_conv3\", h_conv3.shape)\n",
        "    \n",
        "    h_relu3 = tf.nn.relu(h_conv3)\n",
        "    print(\"h_relu3\", h_relu3.shape)\n",
        "    \n",
        "    h_pool3 = tf.nn.max_pool(h_relu3, ksize=[1, 2, 2, 1], strides=[1, 2, 2, 1], padding='SAME')\n",
        "    print(\"h_pool1\", h_pool3.shape)\n",
        "\n",
        "    #Fourth Conv - Conv - Conv - Relu - MaxPool Layer\n",
        "    h_conv4 = tf.nn.conv2d(h_pool3, W_conv4, strides=[1, 1, 1, 1], padding='SAME') + b_conv4\n",
        "    print(\"h_conv4\", h_conv4.shape)\n",
        "    \n",
        "    h_relu4 = tf.nn.relu(h_conv4)\n",
        "    print(\"h_relu4\", h_relu4.shape)\n",
        "    \n",
        "    h_pool4 = tf.nn.max_pool(h_relu4, ksize=[1, 2, 2, 1], strides=[1, 2, 2, 1], padding='SAME')\n",
        "    print(\"h_pool4\", h_pool4.shape)\n",
        "    \n",
        "    # densely/fully connected layer\n",
        "    W_fc1 = tf.Variable(tf.truncated_normal(shape=[2 * 2 * 512, 1024], stddev=0.1)) \n",
        "    b_fc1 = tf.Variable(tf.constant(0.1, shape=[1024]))\n",
        "\n",
        "    h_pool2_flat = tf.reshape(h_pool4, [-1, 2*2*512])\n",
        "    h_fc1 = tf.nn.relu(tf.matmul(h_pool2_flat, W_fc1) + b_fc1)\n",
        "\n",
        "    # linear classifier\n",
        "    W_fc2 = tf.Variable(tf.truncated_normal(shape=[1024, 10], stddev=0.1)) \n",
        "    b_fc2 = tf.Variable(tf.constant(0.1, shape=[10])) \n",
        "\n",
        "    y_conv = tf.matmul(h_fc1, W_fc2) + b_fc2\n",
        "    \n",
        "    #Get all the weights\n",
        "    vars = tf.trainable_variables()\n",
        "    \n",
        "    #Create L1 regularization\n",
        "    l1_regularizer = tf.contrib.layers.l1_regularizer(scale=0.001, scope=None)\n",
        "    regularization = tf.contrib.layers.apply_regularization(l1_regularizer, vars)\n",
        "    \n",
        "    cross_entropy_loss_l1_regularized = tf.reduce_mean(tf.nn.softmax_cross_entropy_with_logits_v2(labels=Y, logits=y_conv) + regularization)\n",
        "    train_step = tf.train.AdamOptimizer().minimize(cross_entropy_loss_l1_regularized)\n",
        "    \n",
        "    correct_prediction = tf.equal(tf.argmax(y_conv, 1), tf.argmax(Y, 1))\n",
        "    accuracy = tf.reduce_mean(tf.cast(correct_prediction, tf.float32))"
      ],
      "execution_count": 65,
      "outputs": [
        {
          "output_type": "stream",
          "text": [
            "h_conv1 (?, 32, 32, 64)\n",
            "h_relu1 (?, 32, 32, 64)\n",
            "h_pool1 (?, 16, 16, 64)\n",
            "h_conv2 (?, 16, 16, 128)\n",
            "h_relu2 (?, 16, 16, 128)\n",
            "h_pool2 (?, 8, 8, 128)\n",
            "h_conv3 (?, 8, 8, 256)\n",
            "h_relu3 (?, 8, 8, 256)\n",
            "h_pool1 (?, 4, 4, 256)\n",
            "h_conv4 (?, 4, 4, 512)\n",
            "h_relu4 (?, 4, 4, 512)\n",
            "h_pool4 (?, 2, 2, 512)\n"
          ],
          "name": "stdout"
        }
      ]
    },
    {
      "metadata": {
        "id": "OLNXvO1NHn_W",
        "colab_type": "code",
        "colab": {
          "autoexec": {
            "startup": false,
            "wait_interval": 0
          }
        }
      },
      "cell_type": "code",
      "source": [
        "sess = tf.InteractiveSession(graph=g)\n",
        "tf.global_variables_initializer().run()\n",
        "\n",
        "batch_size = 1000\n",
        "n_classes = 10\n",
        "\n",
        "number_of_nonzeros_w1 = []\n",
        "number_of_zeros_w1 = []\n",
        "\n",
        "# Add ops to save and restore all the variables.\n",
        "#saver = tf.train.Saver()\n",
        "#base_dir = os.getcwd()\n",
        "#file_path = 'model_lasso/cnn_model_lasso'\n",
        "#model_path = os.path.join(base_dir, file_path)\n",
        "\n",
        "def all_batches_run_train(n_batches, data=None, labels=None):\n",
        "    sum_all_batches_loss =0\n",
        "    sum_all_batches_acc=0\n",
        "    sum_n_samples=0\n",
        "    for b in range(n_batches):            \n",
        "        offset = b * batch_size\n",
        "        batch_data = data[offset : offset+batch_size, :, :, :]\n",
        "        n_samples = batch_data.shape[0]\n",
        "        batch_labels = labels[offset: offset+batch_size, :]\n",
        "        feed_dict = {X: batch_data, \n",
        "                     Y: batch_labels}\n",
        "        #_, loss_value, a, w1 =sess.run([step, loss, acc, W1], feed_dict=feed_dict)\n",
        "\n",
        "        _, loss_value, a, pred, w1 =sess.run([train_step, cross_entropy_loss_l1_regularized, accuracy, correct_prediction, W_conv1], feed_dict=feed_dict)\n",
        "        \n",
        "        #Convert w1 to 1d array for simplicity\n",
        "        w1 = np.reshape(w1, (np.product(w1.shape),))\n",
        "        n_nonzeros = sum(i > 0.00001 for i in w1)\n",
        "        n_zeros = len(w1) - n_nonzeros\n",
        "        #print(\"Number of non_zeros:\", n_nonzeros)\n",
        "        #print(\"Number of zeros:\", n_zeros)\n",
        "        #print(w1.shape)\n",
        "        \n",
        "        number_of_nonzeros_w1.append(n_nonzeros)\n",
        "        number_of_zeros_w1.append(n_zeros)\n",
        "        \n",
        "        sum_all_batches_loss += loss_value * n_samples\n",
        "        sum_all_batches_acc += a * n_samples\n",
        "        sum_n_samples += n_samples\n",
        "        if(n_samples != batch_size):\n",
        "            print('n_samples =%d' % n_samples)\n",
        "\n",
        "    #Save model to /models/cnn_model.ckpt\n",
        "    #save_path = saver.save(sess, model_path) # \"/models/cnn_model.ckpt\")\n",
        "    #print(\"Model saved in path: %s\" % save_path)\n",
        "    return (sum_all_batches_loss/sum_n_samples, sum_all_batches_acc/sum_n_samples, number_of_nonzeros_w1, number_of_zeros_w1)"
      ],
      "execution_count": 0,
      "outputs": []
    },
    {
      "metadata": {
        "id": "FIiQR-Y_Hn_b",
        "colab_type": "code",
        "colab": {
          "autoexec": {
            "startup": false,
            "wait_interval": 0
          },
          "base_uri": "https://localhost:8080/",
          "height": 3313
        },
        "outputId": "6bb661c8-459a-4fff-bb2b-a0fe96b1e54d",
        "executionInfo": {
          "status": "ok",
          "timestamp": 1523860932758,
          "user_tz": -180,
          "elapsed": 608427,
          "user": {
            "displayName": "M. Oğuz Özcan",
            "photoUrl": "https://lh3.googleusercontent.com/a/default-user=s128",
            "userId": "109471889581695523885"
          }
        }
      },
      "cell_type": "code",
      "source": [
        "for i in range(50):\n",
        "    print(\"Epoch\", i)\n",
        "    mean_loss_per_sample_train, accuracy_per_sample_train, number_of_nonzeros_w1, number_of_zeros_w1 = all_batches_run_train(50, g_train_data, g_train_labels)\n",
        "    print(mean_loss_per_sample_train)\n",
        "    print(accuracy_per_sample_train)\n",
        "    \n",
        "x_coordinate_non_zeros = [i for i in range(len(number_of_nonzeros_w1))]\n",
        "fig = plt.figure()\n",
        "plt.plot(x_coordinate_non_zeros,number_of_nonzeros_w1)\n",
        "fig.suptitle('Number of Nonzeros in W1', fontsize=20)\n",
        "plt.xlabel('Number of Batches : 1000', fontsize=16)\n",
        "plt.ylabel('Number of Nonzeros', fontsize=16)\n",
        "plt.show()\n",
        "\n",
        "x_coordinate_zeros = [i for i in range(len(number_of_zeros_w1))]\n",
        "fig = plt.figure()\n",
        "plt.plot(x_coordinate_zeros,number_of_zeros_w1)\n",
        "fig.suptitle('Number of Zeros in W1', fontsize=20)\n",
        "plt.xlabel('Number of Batches : 1000', fontsize=16)\n",
        "plt.ylabel('Number of Zeros', fontsize=16)\n",
        "plt.show()"
      ],
      "execution_count": 67,
      "outputs": [
        {
          "output_type": "stream",
          "text": [
            "Epoch 0\n",
            "153.514951171875\n",
            "0.18799999922513963\n",
            "Epoch 1\n",
            "90.40207473754883\n",
            "0.3405199992656708\n",
            "Epoch 2\n",
            "51.025146408081056\n",
            "0.3867400008440018\n",
            "Epoch 3\n",
            "29.376498794555665\n",
            "0.4168800002336502\n",
            "Epoch 4\n",
            "18.39858943939209\n",
            "0.4348799991607666\n",
            "Epoch 5\n",
            "12.364363937377929\n",
            "0.4493000018596649\n",
            "Epoch 6\n",
            "8.751832914352416\n",
            "0.45459999978542326\n",
            "Epoch 7\n",
            "6.512365274429321\n",
            "0.4617599987983704\n",
            "Epoch 8\n",
            "5.094941415786743\n",
            "0.4661999988555908\n",
            "Epoch 9\n",
            "4.1867769336700436\n",
            "0.46966000080108644\n",
            "Epoch 10\n",
            "3.6001081609725953\n",
            "0.4721799975633621\n",
            "Epoch 11\n",
            "3.2131599235534667\n",
            "0.4757399994134903\n",
            "Epoch 12\n",
            "2.952702531814575\n",
            "0.47985999822616576\n",
            "Epoch 13\n",
            "2.7721070051193237\n",
            "0.4824400019645691\n",
            "Epoch 14\n",
            "2.645753331184387\n",
            "0.48554000198841096\n",
            "Epoch 15\n",
            "2.552277045249939\n",
            "0.48883999824523927\n",
            "Epoch 16\n",
            "2.481428737640381\n",
            "0.4914599984884262\n",
            "Epoch 17\n",
            "2.425695343017578\n",
            "0.49317999958992004\n",
            "Epoch 18\n",
            "2.3805893087387084\n",
            "0.49616000056266785\n",
            "Epoch 19\n",
            "2.3428318548202514\n",
            "0.49983999848365784\n",
            "Epoch 20\n",
            "2.307655987739563\n",
            "0.5036800026893615\n",
            "Epoch 21\n",
            "2.277091236114502\n",
            "0.5061200004816055\n",
            "Epoch 22\n",
            "2.2503087520599365\n",
            "0.5086800014972687\n",
            "Epoch 23\n",
            "2.2260412073135374\n",
            "0.5114200001955033\n",
            "Epoch 24\n",
            "2.2041519260406495\n",
            "0.513740001320839\n",
            "Epoch 25\n",
            "2.1853911590576174\n",
            "0.5158800023794174\n",
            "Epoch 26\n",
            "2.167611503601074\n",
            "0.5189199966192245\n",
            "Epoch 27\n",
            "2.151287455558777\n",
            "0.5219400024414063\n",
            "Epoch 28\n",
            "2.134947295188904\n",
            "0.5244200003147125\n",
            "Epoch 29\n",
            "2.1199312877655028\n",
            "0.5271400016546249\n",
            "Epoch 30\n",
            "2.1064760494232178\n",
            "0.5293999981880187\n",
            "Epoch 31\n",
            "2.0937339067459106\n",
            "0.5315000003576279\n",
            "Epoch 32\n",
            "2.0818600463867187\n",
            "0.535019998550415\n",
            "Epoch 33\n",
            "2.070358250141144\n",
            "0.536619998216629\n",
            "Epoch 34\n",
            "2.060131208896637\n",
            "0.5383600002527237\n",
            "Epoch 35\n",
            "2.0506226682662962\n",
            "0.5402799957990646\n",
            "Epoch 36\n",
            "2.0420523357391356\n",
            "0.5422599983215332\n",
            "Epoch 37\n",
            "2.0323069167137144\n",
            "0.5451199996471405\n",
            "Epoch 38\n",
            "2.022390959262848\n",
            "0.5485800004005432\n",
            "Epoch 39\n",
            "2.0137337684631347\n",
            "0.5515400004386902\n",
            "Epoch 40\n",
            "2.0038511538505555\n",
            "0.5540200006961823\n",
            "Epoch 41\n",
            "1.994801151752472\n",
            "0.556340000629425\n",
            "Epoch 42\n",
            "1.9868722581863403\n",
            "0.5580199980735778\n",
            "Epoch 43\n",
            "1.97859219789505\n",
            "0.5610999953746796\n",
            "Epoch 44\n",
            "1.971138858795166\n",
            "0.5633400011062623\n",
            "Epoch 45\n",
            "1.9639681792259216\n",
            "0.565239999294281\n",
            "Epoch 46\n",
            "1.957398965358734\n",
            "0.5671199977397918\n",
            "Epoch 47\n",
            "1.9513514041900635\n",
            "0.5698799967765809\n",
            "Epoch 48\n",
            "1.9457261371612549\n",
            "0.5713399970531463\n",
            "Epoch 49\n",
            "1.9395427179336548\n",
            "0.5726999998092651\n"
          ],
          "name": "stdout"
        },
        {
          "output_type": "display_data",
          "data": {
            "image/png": "[encoded data removed]",
            "text/plain": [
              "<matplotlib.figure.Figure at 0x7f13fdd5c630>"
            ]
          },
          "metadata": {
            "tags": []
          }
        },
        {
          "output_type": "display_data",
          "data": {
            "image/png": "[encoded data removed]",
            "text/plain": [
              "<matplotlib.figure.Figure at 0x7f13ff306358>"
            ]
          },
          "metadata": {
            "tags": []
          }
        }
      ]
    },
    {
      "metadata": {
        "id": "pN4qyp2CHoAD",
        "colab_type": "text"
      },
      "cell_type": "markdown",
      "source": [
        "### Now test L1 Regularization trained network"
      ]
    },
    {
      "metadata": {
        "id": "ZAVMh_41HoAE",
        "colab_type": "code",
        "colab": {
          "autoexec": {
            "startup": false,
            "wait_interval": 0
          }
        }
      },
      "cell_type": "code",
      "source": [
        "batch_size = 1000\n",
        "n_classes = 10\n",
        "\n",
        "def all_batches_run_train(n_batches, data=None, labels=None):\n",
        "    sum_all_batches_loss =0\n",
        "    sum_all_batches_acc=0\n",
        "    sum_n_samples=0\n",
        "    for b in range(n_batches):            \n",
        "        offset = b * batch_size\n",
        "        batch_data = data[offset : offset+batch_size, :, :, :]\n",
        "        n_samples = batch_data.shape[0]\n",
        "        batch_labels = labels[offset: offset+batch_size, :]\n",
        "        feed_dict = {X: batch_data, Y: batch_labels}\n",
        "        _, loss_value, a, pred, w1 =sess.run([train_step, cross_entropy_loss_l1_regularized, accuracy, correct_prediction, W_conv1], feed_dict=feed_dict)   #[step, loss, acc],\n",
        "\n",
        "        sum_all_batches_loss += loss_value * n_samples\n",
        "        sum_all_batches_acc += a * n_samples\n",
        "        sum_n_samples += n_samples\n",
        "        if(n_samples != batch_size):\n",
        "            print('n_samples =%d' % n_samples)\n",
        "    return (sum_all_batches_loss/sum_n_samples, sum_all_batches_acc/sum_n_samples)"
      ],
      "execution_count": 0,
      "outputs": []
    },
    {
      "metadata": {
        "id": "E_TUV515HoAH",
        "colab_type": "code",
        "colab": {
          "autoexec": {
            "startup": false,
            "wait_interval": 0
          },
          "base_uri": "https://localhost:8080/",
          "height": 67
        },
        "outputId": "f7da4f7c-3d01-4f70-95b7-7c9b7e8348a2",
        "executionInfo": {
          "status": "ok",
          "timestamp": 1523860966564,
          "user_tz": -180,
          "elapsed": 3034,
          "user": {
            "displayName": "M. Oğuz Özcan",
            "photoUrl": "https://lh3.googleusercontent.com/a/default-user=s128",
            "userId": "109471889581695523885"
          }
        }
      },
      "cell_type": "code",
      "source": [
        "for i in range(1):\n",
        "    print(\"Epoch\", i)\n",
        "    mean_loss_per_sample_train, accuracy_per_sample_train = all_batches_run_train(10, g_test_data, g_test_labels)\n",
        "    print(mean_loss_per_sample_train)\n",
        "    print(accuracy_per_sample_train)"
      ],
      "execution_count": 69,
      "outputs": [
        {
          "output_type": "stream",
          "text": [
            "Epoch 0\n",
            "1.9713209509849547\n",
            "0.5585999965667725\n"
          ],
          "name": "stdout"
        }
      ]
    },
    {
      "metadata": {
        "id": "brQIzx8OHoAM",
        "colab_type": "text"
      },
      "cell_type": "markdown",
      "source": [
        "## Now train the network with Ridge - L2 Regularization"
      ]
    },
    {
      "metadata": {
        "id": "BTs4sOiMHoAO",
        "colab_type": "code",
        "colab": {
          "autoexec": {
            "startup": false,
            "wait_interval": 0
          }
        }
      },
      "cell_type": "code",
      "source": [
        ""
      ],
      "execution_count": 0,
      "outputs": []
    },
    {
      "metadata": {
        "id": "fnI2ld-C-8Fp",
        "colab_type": "code",
        "colab": {
          "autoexec": {
            "startup": false,
            "wait_interval": 0
          },
          "base_uri": "https://localhost:8080/",
          "height": 219
        },
        "outputId": "46adaa76-ccb7-4002-c48a-77946d25f1d8",
        "executionInfo": {
          "status": "ok",
          "timestamp": 1523858977930,
          "user_tz": -180,
          "elapsed": 1138,
          "user": {
            "displayName": "M. Oğuz Özcan",
            "photoUrl": "https://lh3.googleusercontent.com/a/default-user=s128",
            "userId": "109471889581695523885"
          }
        }
      },
      "cell_type": "code",
      "source": [
        "g = tf.Graph()\n",
        "\n",
        "with g.as_default():   \n",
        "    X = tf.placeholder(name=\"X\", dtype=tf.float32, shape=[None, 32, 32, 3])  #32*32*3  32, 32, 3\n",
        "    Y = tf.placeholder(name=\"Y\", dtype=tf.float32, shape=[None, 10])\n",
        "\n",
        "    # define conv-layer variables\n",
        "    W_conv1 = tf.Variable(tf.truncated_normal(shape=[3, 3, 3, 64], stddev=0.03))    # first conv-layer has 32 kernels, size=5\n",
        "    b_conv1 = tf.Variable(tf.constant(0.1, shape=[64]))\n",
        "    W_conv2 = tf.Variable(tf.truncated_normal(shape=[3, 3, 64, 128], stddev=0.03))\n",
        "    b_conv2 = tf.Variable(tf.constant(0.1, shape=[128]))\n",
        "    W_conv3 = tf.Variable(tf.truncated_normal(shape=[3, 3, 128, 256], stddev=0.03))\n",
        "    b_conv3 = tf.Variable(tf.constant(0.1, shape=[256]))  #(?, 16, 16, 64)    \n",
        "    W_conv4 = tf.Variable(tf.truncated_normal(shape=[3, 3, 256, 512], stddev=0.03))    # first conv-layer has 32 kernels, size=5\n",
        "    b_conv4 = tf.Variable(tf.constant(0.1, shape=[512]))\n",
        "    \n",
        "    \n",
        "    #First Conv - Conv - Conv - Relu - MaxPool Layer\n",
        "    h_conv1 = tf.nn.conv2d(X, W_conv1, strides=[1, 1, 1, 1], padding='SAME') + b_conv1 \n",
        "    print(\"h_conv1\", h_conv1.shape)\n",
        "    \n",
        "    h_relu1 = tf.nn.relu(h_conv1)\n",
        "    print(\"h_relu1\", h_relu1.shape)\n",
        "    \n",
        "    h_pool1 = tf.nn.max_pool(h_relu1, ksize=[1, 2, 2, 1], strides=[1, 2, 2, 1], padding='SAME')\n",
        "    print(\"h_pool1\", h_pool1.shape)\n",
        "    \n",
        "    #Second Conv - Conv - Conv - Relu - MaxPool Layer\n",
        "    h_conv2 = tf.nn.conv2d(h_pool1, W_conv2, strides=[1, 1, 1, 1], padding='SAME') + b_conv2\n",
        "    print(\"h_conv2\", h_conv2.shape)\n",
        "    \n",
        "    h_relu2 = tf.nn.relu(h_conv2)\n",
        "    print(\"h_relu2\", h_relu2.shape)\n",
        "    \n",
        "    h_pool2 = tf.nn.max_pool(h_relu2, ksize=[1, 2, 2, 1], strides=[1, 2, 2, 1], padding='SAME')\n",
        "    print(\"h_pool2\", h_pool2.shape)    \n",
        "    \n",
        "    #Third Conv - Conv - Conv - Relu - MaxPool Layer\n",
        "    h_conv3 = tf.nn.conv2d(h_pool2, W_conv3, strides=[1, 1, 1, 1], padding='SAME') + b_conv3\n",
        "    print(\"h_conv3\", h_conv3.shape)\n",
        "    \n",
        "    h_relu3 = tf.nn.relu(h_conv3)\n",
        "    print(\"h_relu3\", h_relu3.shape)\n",
        "    \n",
        "    h_pool3 = tf.nn.max_pool(h_relu3, ksize=[1, 2, 2, 1], strides=[1, 2, 2, 1], padding='SAME')\n",
        "    print(\"h_pool1\", h_pool3.shape)\n",
        "\n",
        "    #Fourth Conv - Conv - Conv - Relu - MaxPool Layer\n",
        "    h_conv4 = tf.nn.conv2d(h_pool3, W_conv4, strides=[1, 1, 1, 1], padding='SAME') + b_conv4\n",
        "    print(\"h_conv4\", h_conv4.shape)\n",
        "    \n",
        "    h_relu4 = tf.nn.relu(h_conv4)\n",
        "    print(\"h_relu4\", h_relu4.shape)\n",
        "    \n",
        "    h_pool4 = tf.nn.max_pool(h_relu4, ksize=[1, 2, 2, 1], strides=[1, 2, 2, 1], padding='SAME')\n",
        "    print(\"h_pool4\", h_pool4.shape)\n",
        "    \n",
        "    # densely/fully connected layer\n",
        "    W_fc1 = tf.Variable(tf.truncated_normal(shape=[2 * 2 * 512, 1024], stddev=0.1)) \n",
        "    b_fc1 = tf.Variable(tf.constant(0.1, shape=[1024]))\n",
        "\n",
        "    h_pool2_flat = tf.reshape(h_pool4, [-1, 2*2*512])\n",
        "    h_fc1 = tf.nn.relu(tf.matmul(h_pool2_flat, W_fc1) + b_fc1)\n",
        "\n",
        "    # linear classifier\n",
        "    W_fc2 = tf.Variable(tf.truncated_normal(shape=[1024, 10], stddev=0.1)) \n",
        "    b_fc2 = tf.Variable(tf.constant(0.1, shape=[10])) \n",
        "\n",
        "    y_conv = tf.matmul(h_fc1, W_fc2) + b_fc2\n",
        "    \n",
        "    #Get all the weights\n",
        "    vars = tf.trainable_variables()\n",
        "    \n",
        "    #Create L1 regularization\n",
        "    l2_regularizer = tf.contrib.layers.l2_regularizer(scale=0.01, scope=None)\n",
        "    regularization = tf.contrib.layers.apply_regularization(l2_regularizer, vars)\n",
        "    \n",
        "    cross_entropy_loss_l2_regularized = tf.reduce_mean(tf.nn.softmax_cross_entropy_with_logits_v2(labels=Y, logits=y_conv) + regularization)\n",
        "    train_step = tf.train.AdamOptimizer(1e-4).minimize(cross_entropy_loss_l2_regularized)\n",
        "    \n",
        "    correct_prediction = tf.equal(tf.argmax(y_conv, 1), tf.argmax(Y, 1))\n",
        "    accuracy = tf.reduce_mean(tf.cast(correct_prediction, tf.float32))"
      ],
      "execution_count": 59,
      "outputs": [
        {
          "output_type": "stream",
          "text": [
            "h_conv1 (?, 32, 32, 64)\n",
            "h_relu1 (?, 32, 32, 64)\n",
            "h_pool1 (?, 16, 16, 64)\n",
            "h_conv2 (?, 16, 16, 128)\n",
            "h_relu2 (?, 16, 16, 128)\n",
            "h_pool2 (?, 8, 8, 128)\n",
            "h_conv3 (?, 8, 8, 256)\n",
            "h_relu3 (?, 8, 8, 256)\n",
            "h_pool1 (?, 4, 4, 256)\n",
            "h_conv4 (?, 4, 4, 512)\n",
            "h_relu4 (?, 4, 4, 512)\n",
            "h_pool4 (?, 2, 2, 512)\n"
          ],
          "name": "stdout"
        }
      ]
    },
    {
      "metadata": {
        "id": "7aoFu2PjHoAx",
        "colab_type": "code",
        "colab": {
          "autoexec": {
            "startup": false,
            "wait_interval": 0
          }
        }
      },
      "cell_type": "code",
      "source": [
        "sess = tf.InteractiveSession(graph=g)\n",
        "tf.global_variables_initializer().run()\n",
        "\n",
        "batch_size = 1000\n",
        "n_classes = 10\n",
        "\n",
        "number_of_nonzeros_w1 = []\n",
        "number_of_zeros_w1 = []\n",
        "\n",
        "# Add ops to save and restore all the variables.\n",
        "#saver = tf.train.Saver()\n",
        "#base_dir = os.getcwd()\n",
        "#file_path = 'model_ridge/cnn_model_ridge'\n",
        "#model_path = os.path.join(base_dir, file_path)\n",
        "\n",
        "def all_batches_run_train(n_batches, data=None, labels=None):\n",
        "    sum_all_batches_loss =0\n",
        "    sum_all_batches_acc=0\n",
        "    sum_n_samples=0\n",
        "    for b in range(n_batches):            \n",
        "        offset = b * batch_size\n",
        "        batch_data = data[offset : offset+batch_size, :, :, :]\n",
        "        n_samples = batch_data.shape[0]\n",
        "        batch_labels = labels[offset: offset+batch_size, :]\n",
        "        feed_dict = {X: batch_data, \n",
        "                     Y: batch_labels}\n",
        "        _, loss_value, a, pred, w1 =sess.run([train_step, cross_entropy_loss_l2_regularized, accuracy, correct_prediction, W_conv1], feed_dict=feed_dict)\n",
        "\n",
        "        #Convert w1 to 1d array for simplicity\n",
        "        w1 = np.reshape(w1, (np.product(w1.shape),))\n",
        "        n_nonzeros = sum(i > 0.00001 for i in w1)\n",
        "        n_zeros = len(w1) - n_nonzeros\n",
        "        #print(\"Number of non_zeros:\", n_nonzeros)\n",
        "        #print(\"Number of zeros:\", n_zeros)\n",
        "        #print(w1.shape)\n",
        "        \n",
        "        number_of_nonzeros_w1.append(n_nonzeros)\n",
        "        number_of_zeros_w1.append(n_zeros)\n",
        "        \n",
        "        sum_all_batches_loss += loss_value * n_samples\n",
        "        sum_all_batches_acc += a * n_samples\n",
        "        sum_n_samples += n_samples\n",
        "        if(n_samples != batch_size):\n",
        "            print('n_samples =%d' % n_samples)\n",
        "\n",
        "    #Save model to /models/cnn_model.ckpt\n",
        "    #save_path = saver.save(sess, model_path) # \"/models/cnn_model.ckpt\")\n",
        "    #print(\"Model saved in path: %s\" % save_path)\n",
        "    return (sum_all_batches_loss/sum_n_samples, sum_all_batches_acc/sum_n_samples, number_of_nonzeros_w1, number_of_zeros_w1)"
      ],
      "execution_count": 0,
      "outputs": []
    },
    {
      "metadata": {
        "id": "XSYVe8IdHoA1",
        "colab_type": "code",
        "colab": {
          "autoexec": {
            "startup": false,
            "wait_interval": 0
          },
          "base_uri": "https://localhost:8080/",
          "height": 3313
        },
        "outputId": "d2a52ede-9581-4bd4-cc5b-1b8a67337fd7",
        "executionInfo": {
          "status": "ok",
          "timestamp": 1523859613783,
          "user_tz": -180,
          "elapsed": 604960,
          "user": {
            "displayName": "M. Oğuz Özcan",
            "photoUrl": "https://lh3.googleusercontent.com/a/default-user=s128",
            "userId": "109471889581695523885"
          }
        }
      },
      "cell_type": "code",
      "source": [
        "for i in range(50):\n",
        "    print(\"Epoch\", i)\n",
        "    mean_loss_per_sample_train, accuracy_per_sample_train, number_of_nonzeros_w1, number_of_zeros_w1 = all_batches_run_train(50, g_train_data, g_train_labels)\n",
        "    print(mean_loss_per_sample_train)\n",
        "    print(accuracy_per_sample_train)\n",
        "    \n",
        "x_coordinate_non_zeros = [i for i in range(len(number_of_nonzeros_w1))]\n",
        "fig = plt.figure()\n",
        "plt.plot(x_coordinate_non_zeros,number_of_nonzeros_w1)\n",
        "fig.suptitle('Number of Nonzeros in W1', fontsize=20)\n",
        "plt.xlabel('Number of Batches : 1000', fontsize=16)\n",
        "plt.ylabel('Number of Nonzeros', fontsize=16)\n",
        "plt.show()\n",
        "\n",
        "x_coordinate_zeros = [i for i in range(len(number_of_zeros_w1))]\n",
        "fig = plt.figure()\n",
        "plt.plot(x_coordinate_zeros,number_of_zeros_w1)\n",
        "fig.suptitle('Number of Zeros in W1', fontsize=20)\n",
        "plt.xlabel('Number of Batches : 1000', fontsize=16)\n",
        "plt.ylabel('Number of Zeros', fontsize=16)\n",
        "plt.show()"
      ],
      "execution_count": 62,
      "outputs": [
        {
          "output_type": "stream",
          "text": [
            "Epoch 0\n",
            "86.60761688232422\n",
            "0.2456800000369549\n",
            "Epoch 1\n",
            "80.750341796875\n",
            "0.395780001282692\n",
            "Epoch 2\n",
            "75.30102233886718\n",
            "0.456000000834465\n",
            "Epoch 3\n",
            "70.24544967651367\n",
            "0.4935400015115738\n",
            "Epoch 4\n",
            "65.58632743835449\n",
            "0.5250999981164932\n",
            "Epoch 5\n",
            "61.28651252746582\n",
            "0.5513000005483627\n",
            "Epoch 6\n",
            "57.314581604003905\n",
            "0.5677999985218048\n",
            "Epoch 7\n",
            "53.641422805786135\n",
            "0.5807000017166137\n",
            "Epoch 8\n",
            "50.24393096923828\n",
            "0.5928600001335144\n",
            "Epoch 9\n",
            "47.094445343017576\n",
            "0.604139997959137\n",
            "Epoch 10\n",
            "44.17085357666016\n",
            "0.613160002231598\n",
            "Epoch 11\n",
            "41.454241256713864\n",
            "0.6218399977684022\n",
            "Epoch 12\n",
            "38.926685180664066\n",
            "0.6316000008583069\n",
            "Epoch 13\n",
            "36.57512275695801\n",
            "0.6385199999809266\n",
            "Epoch 14\n",
            "34.386581573486325\n",
            "0.645220000743866\n",
            "Epoch 15\n",
            "32.349776916503906\n",
            "0.6512400007247925\n",
            "Epoch 16\n",
            "30.453757209777834\n",
            "0.657039999961853\n",
            "Epoch 17\n",
            "28.688632774353028\n",
            "0.6625000011920928\n",
            "Epoch 18\n",
            "27.045673065185547\n",
            "0.6684000015258789\n",
            "Epoch 19\n",
            "25.516072425842285\n",
            "0.6739799964427948\n",
            "Epoch 20\n",
            "24.09151138305664\n",
            "0.6787599980831146\n",
            "Epoch 21\n",
            "22.76384220123291\n",
            "0.6835000002384186\n",
            "Epoch 22\n",
            "21.52645324707031\n",
            "0.6886200034618377\n",
            "Epoch 23\n",
            "20.3726607131958\n",
            "0.6927400028705597\n",
            "Epoch 24\n",
            "19.296285972595214\n",
            "0.6960399997234344\n",
            "Epoch 25\n",
            "18.292118339538575\n",
            "0.7007600021362305\n",
            "Epoch 26\n",
            "17.35525550842285\n",
            "0.7040999972820282\n",
            "Epoch 27\n",
            "16.48090747833252\n",
            "0.7070800030231476\n",
            "Epoch 28\n",
            "15.664675903320312\n",
            "0.7105799996852875\n",
            "Epoch 29\n",
            "14.901985111236572\n",
            "0.7143800032138824\n",
            "Epoch 30\n",
            "14.18974271774292\n",
            "0.7171200001239777\n",
            "Epoch 31\n",
            "13.523988971710205\n",
            "0.7210000002384186\n",
            "Epoch 32\n",
            "12.901741943359376\n",
            "0.7236800003051758\n",
            "Epoch 33\n",
            "12.320170955657959\n",
            "0.726139999628067\n",
            "Epoch 34\n",
            "11.77639305114746\n",
            "0.7283000040054322\n",
            "Epoch 35\n",
            "11.26835163116455\n",
            "0.7300600004196167\n",
            "Epoch 36\n",
            "10.79359167098999\n",
            "0.7323799979686737\n",
            "Epoch 37\n",
            "10.347885913848877\n",
            "0.7340800023078918\n",
            "Epoch 38\n",
            "9.92894245147705\n",
            "0.7375800013542175\n",
            "Epoch 39\n",
            "9.536666088104248\n",
            "0.7402200019359588\n",
            "Epoch 40\n",
            "9.169166831970214\n",
            "0.7423000025749207\n",
            "Epoch 41\n",
            "8.824397010803223\n",
            "0.7448000025749206\n",
            "Epoch 42\n",
            "8.500509853363036\n",
            "0.74614000082016\n",
            "Epoch 43\n",
            "8.195775756835937\n",
            "0.7484599995613098\n",
            "Epoch 44\n",
            "7.908700704574585\n",
            "0.7518000054359436\n",
            "Epoch 45\n",
            "7.637648572921753\n",
            "0.7541200017929077\n",
            "Epoch 46\n",
            "7.3813708305358885\n",
            "0.7570999944210053\n",
            "Epoch 47\n",
            "7.139186267852783\n",
            "0.7595199990272522\n",
            "Epoch 48\n",
            "6.910229978561401\n",
            "0.7621399998664856\n",
            "Epoch 49\n",
            "6.693678321838379\n",
            "0.7643600010871887\n"
          ],
          "name": "stdout"
        },
        {
          "output_type": "display_data",
          "data": {
            "image/png": "[encoded data removed]",
            "text/plain": [
              "<matplotlib.figure.Figure at 0x7f13fedb5c88>"
            ]
          },
          "metadata": {
            "tags": []
          }
        },
        {
          "output_type": "display_data",
          "data": {
            "image/png": "[encoded data removed]",
            "text/plain": [
              "<matplotlib.figure.Figure at 0x7f13ff311470>"
            ]
          },
          "metadata": {
            "tags": []
          }
        }
      ]
    },
    {
      "metadata": {
        "id": "kDCjTcT3HoBP",
        "colab_type": "text"
      },
      "cell_type": "markdown",
      "source": [
        "### Now test L2 Regularization trained network"
      ]
    },
    {
      "metadata": {
        "id": "e-aF1cckHoBR",
        "colab_type": "code",
        "colab": {
          "autoexec": {
            "startup": false,
            "wait_interval": 0
          }
        }
      },
      "cell_type": "code",
      "source": [
        "batch_size = 1000\n",
        "n_classes = 10\n",
        "\n",
        "def all_batches_run_train(n_batches, data=None, labels=None):\n",
        "    sum_all_batches_loss =0\n",
        "    sum_all_batches_acc=0\n",
        "    sum_n_samples=0\n",
        "    for b in range(n_batches):            \n",
        "        offset = b * batch_size\n",
        "        batch_data = data[offset : offset+batch_size, :, :, :]\n",
        "        n_samples = batch_data.shape[0]\n",
        "        batch_labels = labels[offset: offset+batch_size, :]\n",
        "        feed_dict = {X: batch_data, Y: batch_labels}\n",
        "        _, loss_value, a, pred, w1 =sess.run([train_step, cross_entropy_loss_l2_regularized, accuracy, correct_prediction, W_conv1], feed_dict=feed_dict)   #[step, loss, acc],\n",
        "\n",
        "        sum_all_batches_loss += loss_value * n_samples\n",
        "        sum_all_batches_acc += a * n_samples\n",
        "        sum_n_samples += n_samples\n",
        "        if(n_samples != batch_size):\n",
        "            print('n_samples =%d' % n_samples)\n",
        "    return (sum_all_batches_loss/sum_n_samples, sum_all_batches_acc/sum_n_samples)"
      ],
      "execution_count": 0,
      "outputs": []
    },
    {
      "metadata": {
        "id": "nNJc-n5SHoBV",
        "colab_type": "code",
        "colab": {
          "autoexec": {
            "startup": false,
            "wait_interval": 0
          },
          "base_uri": "https://localhost:8080/",
          "height": 67
        },
        "outputId": "875d16cd-e547-4ab8-9ff5-b391dd311f7b",
        "executionInfo": {
          "status": "ok",
          "timestamp": 1523859623846,
          "user_tz": -180,
          "elapsed": 3014,
          "user": {
            "displayName": "M. Oğuz Özcan",
            "photoUrl": "https://lh3.googleusercontent.com/a/default-user=s128",
            "userId": "109471889581695523885"
          }
        }
      },
      "cell_type": "code",
      "source": [
        "for i in range(1):\n",
        "    print(\"Epoch\", i)\n",
        "    mean_loss_per_sample_train, accuracy_per_sample_train = all_batches_run_train(10, g_test_data, g_test_labels)\n",
        "    print(mean_loss_per_sample_train)\n",
        "    print(accuracy_per_sample_train)"
      ],
      "execution_count": 64,
      "outputs": [
        {
          "output_type": "stream",
          "text": [
            "Epoch 0\n",
            "6.76600341796875\n",
            "0.6888999938964844\n"
          ],
          "name": "stdout"
        }
      ]
    },
    {
      "metadata": {
        "id": "TMo8Jv-dHoBc",
        "colab_type": "code",
        "colab": {
          "autoexec": {
            "startup": false,
            "wait_interval": 0
          }
        }
      },
      "cell_type": "code",
      "source": [
        ""
      ],
      "execution_count": 0,
      "outputs": []
    }
  ]
}