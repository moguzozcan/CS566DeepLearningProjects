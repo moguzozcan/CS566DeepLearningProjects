{
 "cells": [
  {
   "cell_type": "code",
   "execution_count": 80,
   "metadata": {},
   "outputs": [],
   "source": [
    "import tensorflow as tf\n",
    "import matplotlib.pyplot as plt\n",
    "import numpy as np\n",
    "import time"
   ]
  },
  {
   "cell_type": "code",
   "execution_count": 33,
   "metadata": {},
   "outputs": [
    {
     "name": "stdout",
     "output_type": "stream",
     "text": [
      "Successfully downloaded train-images-idx3-ubyte.gz 26421880 bytes.\n",
      "Extracting data/fashion\\train-images-idx3-ubyte.gz\n",
      "Successfully downloaded train-labels-idx1-ubyte.gz 29515 bytes.\n",
      "Extracting data/fashion\\train-labels-idx1-ubyte.gz\n",
      "Successfully downloaded t10k-images-idx3-ubyte.gz 4422102 bytes.\n",
      "Extracting data/fashion\\t10k-images-idx3-ubyte.gz\n",
      "Successfully downloaded t10k-labels-idx1-ubyte.gz 5148 bytes.\n",
      "Extracting data/fashion\\t10k-labels-idx1-ubyte.gz\n"
     ]
    }
   ],
   "source": [
    "from tensorflow.examples.tutorials.mnist import input_data\n",
    "#I've added \"validation_size=0\" parameter so that the image size will be exactly 60000 not 55000\n",
    "fashion_mnist = input_data.read_data_sets('data/fashion', one_hot=True, validation_size=0, source_url='http://fashion-mnist.s3-website.eu-central-1.amazonaws.com/')\n"
   ]
  },
  {
   "cell_type": "markdown",
   "metadata": {},
   "source": [
    "#### Examine the data format, shape and labels"
   ]
  },
  {
   "cell_type": "code",
   "execution_count": 34,
   "metadata": {},
   "outputs": [
    {
     "name": "stdout",
     "output_type": "stream",
     "text": [
      "Features of Fashion MNIST dataset\n",
      "Shape of training set images:  (60000, 784)\n",
      "Shape of training set labels (60000, 10)\n",
      "Shape of test set images:  (10000, 784)\n",
      "Shape of test set labels (10000, 10)\n"
     ]
    }
   ],
   "source": [
    "print('Features of Fashion MNIST dataset')\n",
    "print('Shape of training set images: ', fashion_mnist.train.images.shape)\n",
    "print('Shape of training set labels', fashion_mnist.train.labels.shape)\n",
    "print('Shape of test set images: ', fashion_mnist.test.images.shape)\n",
    "print('Shape of test set labels', fashion_mnist.test.labels.shape)"
   ]
  },
  {
   "cell_type": "markdown",
   "metadata": {},
   "source": [
    "#### Print the format of labels"
   ]
  },
  {
   "cell_type": "code",
   "execution_count": 35,
   "metadata": {},
   "outputs": [
    {
     "name": "stdout",
     "output_type": "stream",
     "text": [
      "[0. 0. 0. 0. 0. 0. 0. 0. 0. 1.]\n"
     ]
    }
   ],
   "source": [
    "print(fashion_mnist.train.labels[0])"
   ]
  },
  {
   "cell_type": "markdown",
   "metadata": {},
   "source": [
    "#### So the labels are arrays of length 10, let's create an array to represent labels"
   ]
  },
  {
   "cell_type": "code",
   "execution_count": 36,
   "metadata": {},
   "outputs": [],
   "source": [
    "labels = ['T-shirt/top', 'Trouser', 'Pullover', 'Dress', 'Coat', 'Sandal', 'Shirt', 'Sneaker', 'Bag', 'Ankle boot']"
   ]
  },
  {
   "cell_type": "markdown",
   "metadata": {},
   "source": [
    "#### Try to show a sample image with the created label array element"
   ]
  },
  {
   "cell_type": "code",
   "execution_count": 37,
   "metadata": {},
   "outputs": [
    {
     "name": "stdout",
     "output_type": "stream",
     "text": [
      "The image is  Pullover\n",
      "(28, 28)\n"
     ]
    },
    {
     "data": {
      "image/png": "[encoded data removed]",
      "text/plain": [
       "<matplotlib.figure.Figure at 0x1d340710>"
      ]
     },
     "metadata": {},
     "output_type": "display_data"
    }
   ],
   "source": [
    "random_image = fashion_mnist.train.images[37].reshape(28, 28)\n",
    "print('The image is ', labels[np.where(fashion_mnist.train.labels[37] == 1)[0][0]])\n",
    "print(random_image.shape)\n",
    "plt.imshow(random_image, cmap='Greys')\n",
    "plt.show()"
   ]
  },
  {
   "cell_type": "markdown",
   "metadata": {},
   "source": [
    "#### Create placeholder for network one. First network will be one layer network with only one neuron. ReLu is used for  "
   ]
  },
  {
   "cell_type": "markdown",
   "metadata": {},
   "source": [
    "## Network 1 One hidden layer with one neuron"
   ]
  },
  {
   "cell_type": "code",
   "execution_count": 138,
   "metadata": {},
   "outputs": [],
   "source": [
    "g = tf.Graph()\n",
    "with g.as_default():\n",
    "    \n",
    "    X = tf.placeholder(dtype=tf.float32, shape=[None, 28*28]) #To feed input images whose shape are 28*28, None stands for \n",
    "                                                              # unspecified number of samples to be input\n",
    "    Y = tf.placeholder(dtype=tf.float32, shape=[None, 10])    #To feed labels whose shape are 10, None stands for \n",
    "                                                              # unspecified number of samples to be input\n",
    "\n",
    "    #Create first hidden network\n",
    "    #Declare the weights connecting the input to the hidden layer, it has 1000 nodes in the layer, weights are initialized using \n",
    "    #Xavier initializer\n",
    "    W1 = tf.get_variable(name=\"W1\", shape=[28*28, 10], dtype = tf.float32, initializer=tf.contrib.layers.xavier_initializer(30))\n",
    "    #This is the bias \n",
    "    b1 = tf.get_variable(name=\"b1\", shape=[10], dtype = tf.float32, initializer=tf.constant_initializer(0.1))\n",
    "    # calculate the output of the hidden layer activation function is ReLu\n",
    "    out1 = tf.nn.relu((tf.matmul(X, W1) + b1))\n",
    "    \n",
    "    #Output layer \n",
    "    W2 = tf.get_variable(name=\"W2\", shape=[10, 10], dtype = tf.float32, initializer=tf.contrib.layers.xavier_initializer(30))\n",
    "    b2 = tf.get_variable(name=\"b2\", shape=[10], dtype = tf.float32, initializer=tf.constant_initializer(0.1))\n",
    "    logits = tf.matmul(out1, W2) + b2\n",
    "    \n",
    "    #Accuracy\n",
    "    preds = tf.argmax(logits, axis = 1)\n",
    "    truth = tf.argmax(Y, axis = 1)\n",
    "    match = tf.cast(tf.equal(preds, truth), tf.float32)\n",
    "    acc = tf.reduce_mean(match)\n",
    "    \n",
    "    loss = tf.reduce_mean(tf.nn.softmax_cross_entropy_with_logits_v2(\n",
    "        logits=logits, labels=Y))\n",
    "    \n",
    "    step = tf.train.AdamOptimizer().minimize(loss)"
   ]
  },
  {
   "cell_type": "code",
   "execution_count": 144,
   "metadata": {},
   "outputs": [],
   "source": [
    "sess = tf.InteractiveSession(graph=g)\n",
    "tf.global_variables_initializer().run()"
   ]
  },
  {
   "cell_type": "code",
   "execution_count": 147,
   "metadata": {},
   "outputs": [
    {
     "name": "stdout",
     "output_type": "stream",
     "text": [
      "5940) acc: 0.9080\r"
     ]
    }
   ],
   "source": [
    "acc_list = []\n",
    "epoch_list = []\n",
    "batch_size = 1000\n",
    "start_time = time.time()\n",
    "for i in range(6000):\n",
    "    x, y = fashion_mnist.train.next_batch(batch_size)\n",
    "    _, acc_ = sess.run([step, acc], feed_dict={X: x, Y: y})    \n",
    "    if i % 60 == 0: \n",
    "        epoch_list.append(i / 60)\n",
    "        acc_list.append(acc_)\n",
    "        print('%d) acc: %2.4f' % (i,acc_), end='\\r')\n",
    "processing_time = time.time() - start_time"
   ]
  },
  {
   "cell_type": "code",
   "execution_count": 148,
   "metadata": {},
   "outputs": [
    {
     "name": "stdout",
     "output_type": "stream",
     "text": [
      "--- 68.90869331359863 seconds ---\n"
     ]
    }
   ],
   "source": [
    "print(\"--- %s seconds ---\" % (processing_time))"
   ]
  },
  {
   "cell_type": "code",
   "execution_count": 146,
   "metadata": {},
   "outputs": [
    {
     "data": {
      "image/png": "[encoded data removed]",
      "text/plain": [
       "<matplotlib.figure.Figure at 0x2798f588>"
      ]
     },
     "metadata": {},
     "output_type": "display_data"
    }
   ],
   "source": [
    "fig = plt.figure()\n",
    "plt.plot(epoch_list, acc_list)\n",
    "fig.suptitle('Test 1 - 1 Hidden Layer 10 Neuron', fontsize=20)\n",
    "plt.xlabel('Number of Epochs', fontsize=16)\n",
    "plt.ylabel('Accuracy', fontsize=16)\n",
    "fig.savefig('test1.jpg')\n",
    "plt.show()"
   ]
  },
  {
   "cell_type": "code",
   "execution_count": 142,
   "metadata": {},
   "outputs": [
    {
     "data": {
      "text/plain": [
       "0.87865"
      ]
     },
     "execution_count": 142,
     "metadata": {},
     "output_type": "execute_result"
    }
   ],
   "source": [
    "#Test the network as a whole, not as batches\n",
    "sess.run(acc, feed_dict={X:fashion_mnist.train.images, Y:fashion_mnist.train.labels})"
   ]
  },
  {
   "cell_type": "code",
   "execution_count": 143,
   "metadata": {},
   "outputs": [
    {
     "data": {
      "text/plain": [
       "0.8536"
      ]
     },
     "execution_count": 143,
     "metadata": {},
     "output_type": "execute_result"
    }
   ],
   "source": [
    "#Now test our trained network with the test data\n",
    "sess.run(acc, feed_dict={X:fashion_mnist.test.images, Y:fashion_mnist.test.labels})"
   ]
  },
  {
   "cell_type": "markdown",
   "metadata": {},
   "source": [
    "# The second network - Shallow Network - One hidden layer with 100 neurons"
   ]
  },
  {
   "cell_type": "code",
   "execution_count": 149,
   "metadata": {},
   "outputs": [],
   "source": [
    "g = tf.Graph()\n",
    "with g.as_default():\n",
    "    \n",
    "    X = tf.placeholder(dtype=tf.float32, shape=[None, 28*28]) #To feed input images whose shape are 28*28, None stands for \n",
    "                                                              # unspecified number of samples to be input\n",
    "    Y = tf.placeholder(dtype=tf.float32, shape=[None, 10])    #To feed labels whose shape are 10 None stands for \n",
    "                                                              # unspecified number of samples to be input\n",
    "\n",
    "    #Create first hidden network\n",
    "    #Declare the weights connecting the input to the hidden layer, it has 1000 nodes in the layer, weights are initialized using \n",
    "    #Xavier initializer\n",
    "    W1 = tf.get_variable(name=\"W1\", shape=[28*28, 100], dtype = tf.float32, initializer=tf.contrib.layers.xavier_initializer(30))\n",
    "    #This is the bias \n",
    "    b1 = tf.get_variable(name=\"b1\", shape=[100], dtype = tf.float32, initializer=tf.constant_initializer(0.1))\n",
    "    # calculate the output of the hidden layer activation function is ReLu\n",
    "    out1 = tf.nn.relu((tf.matmul(X, W1) + b1))\n",
    "    \n",
    "    #Output layer \n",
    "    W2 = tf.get_variable(name=\"W2\", shape=[100, 10], dtype = tf.float32, initializer=tf.contrib.layers.xavier_initializer(30))\n",
    "    b2 = tf.get_variable(name=\"b2\", shape=[10], dtype = tf.float32, initializer=tf.constant_initializer(0.1))\n",
    "    logits = tf.matmul(out1, W2) + b2\n",
    "    \n",
    "    #Accuracy\n",
    "    preds = tf.argmax(logits, axis = 1)\n",
    "    truth = tf.argmax(Y, axis = 1)\n",
    "    match = tf.cast(tf.equal(preds, truth), tf.float32)\n",
    "    acc = tf.reduce_mean(match)\n",
    "    \n",
    "    loss = tf.reduce_mean(tf.nn.softmax_cross_entropy_with_logits_v2(\n",
    "        logits=logits, labels=Y))\n",
    "    \n",
    "    step = tf.train.AdamOptimizer().minimize(loss)"
   ]
  },
  {
   "cell_type": "code",
   "execution_count": 150,
   "metadata": {},
   "outputs": [],
   "source": [
    "sess = tf.InteractiveSession(graph=g)\n",
    "tf.global_variables_initializer().run()"
   ]
  },
  {
   "cell_type": "code",
   "execution_count": 151,
   "metadata": {},
   "outputs": [
    {
     "name": "stdout",
     "output_type": "stream",
     "text": [
      "5940) acc: 0.9530\r"
     ]
    }
   ],
   "source": [
    "acc_list = []\n",
    "epoch_list = []\n",
    "batch_size = 1000\n",
    "start_time = time.time()\n",
    "for i in range(6000):\n",
    "    x, y = fashion_mnist.train.next_batch(batch_size)\n",
    "    _, acc_ = sess.run([step, acc], feed_dict={X: x, Y: y})    \n",
    "    if i % 60 == 0: \n",
    "        epoch_list.append(i / 60)\n",
    "        acc_list.append(acc_)\n",
    "        print('%d) acc: %2.4f' % (i,acc_), end='\\r')\n",
    "processing_time = time.time() - start_time"
   ]
  },
  {
   "cell_type": "code",
   "execution_count": 152,
   "metadata": {},
   "outputs": [
    {
     "name": "stdout",
     "output_type": "stream",
     "text": [
      "--- 128.16520047187805 seconds ---\n"
     ]
    }
   ],
   "source": [
    "print(\"--- %s seconds ---\" % (processing_time))"
   ]
  },
  {
   "cell_type": "code",
   "execution_count": 159,
   "metadata": {},
   "outputs": [
    {
     "data": {
      "image/png": "[encoded data removed]",
      "text/plain": [
       "<matplotlib.figure.Figure at 0x2a3e2748>"
      ]
     },
     "metadata": {},
     "output_type": "display_data"
    }
   ],
   "source": [
    "fig = plt.figure()\n",
    "plt.plot(epoch_list, acc_list)\n",
    "fig.suptitle('Test 2 - 1 Hidden Layer 100 Neuron', fontsize=20)\n",
    "plt.xlabel('Number of Epochs', fontsize=16)\n",
    "plt.ylabel('Accuracy', fontsize=16)\n",
    "fig.savefig('test2.jpg')\n",
    "plt.show()"
   ]
  },
  {
   "cell_type": "code",
   "execution_count": 154,
   "metadata": {},
   "outputs": [
    {
     "data": {
      "text/plain": [
       "0.9529833"
      ]
     },
     "execution_count": 154,
     "metadata": {},
     "output_type": "execute_result"
    }
   ],
   "source": [
    "#Test the network as a whole, not as batches\n",
    "sess.run(acc, feed_dict={X:fashion_mnist.train.images, Y:fashion_mnist.train.labels})"
   ]
  },
  {
   "cell_type": "code",
   "execution_count": 155,
   "metadata": {},
   "outputs": [
    {
     "data": {
      "text/plain": [
       "0.8837"
      ]
     },
     "execution_count": 155,
     "metadata": {},
     "output_type": "execute_result"
    }
   ],
   "source": [
    "#Now test our trained network with the test data\n",
    "sess.run(acc, feed_dict={X:fashion_mnist.test.images, Y:fashion_mnist.test.labels})"
   ]
  },
  {
   "cell_type": "markdown",
   "metadata": {},
   "source": [
    "# The third network - Deep Network - Three hidden layers with 100 neurons"
   ]
  },
  {
   "cell_type": "code",
   "execution_count": 160,
   "metadata": {},
   "outputs": [],
   "source": [
    "g = tf.Graph()\n",
    "with g.as_default():\n",
    "    \n",
    "    X = tf.placeholder(dtype=tf.float32, shape=[None, 28*28]) #To feed input images whose shape are 28*28, None stands for \n",
    "                                                              # unspecified number of samples to be input\n",
    "    Y = tf.placeholder(dtype=tf.float32, shape=[None, 10])    #To feed labels whose shape are 10 None stands for \n",
    "                                                              # unspecified number of samples to be input\n",
    "\n",
    "    #Create 1st hidden network\n",
    "    #Declare the weights connecting the input to the hidden layer, it has 1000 nodes in the layer, weights are initialized using \n",
    "    #Xavier initializer\n",
    "    W1 = tf.get_variable(name=\"W1\", shape=[28*28, 100], dtype = tf.float32, initializer=tf.contrib.layers.xavier_initializer(30))\n",
    "    #This is the bias \n",
    "    b1 = tf.get_variable(name=\"b1\", shape=[100], dtype = tf.float32, initializer=tf.constant_initializer(0.1))\n",
    "    # calculate the output of the hidden layer activation function is ReLu\n",
    "    out1 = tf.nn.relu((tf.matmul(X, W1) + b1))\n",
    "    \n",
    "    #Create 2nd hidden network\n",
    "    #Declare the weights connecting the input to the hidden layer, it has 100 nodes in the layer, weights are initialized using \n",
    "    #Xavier initializer\n",
    "    W2 = tf.get_variable(name=\"W2\", shape=[100, 100], dtype = tf.float32, initializer=tf.contrib.layers.xavier_initializer(30))\n",
    "    #This is the bias \n",
    "    b2 = tf.get_variable(name=\"b2\", shape=[100], dtype = tf.float32, initializer=tf.constant_initializer(0.1))\n",
    "    # calculate the output of the hidden layer activation function is ReLu\n",
    "    out2 = tf.nn.relu((tf.matmul(out1, W2) + b2))\n",
    "    \n",
    "    #Create 3rd hidden network\n",
    "    #Declare the weights connecting the input to the hidden layer, it has 100 nodes in the layer, weights are initialized using \n",
    "    #Xavier initializer\n",
    "    W3 = tf.get_variable(name=\"W3\", shape=[100, 100], dtype = tf.float32, initializer=tf.contrib.layers.xavier_initializer(30))\n",
    "    #This is the bias \n",
    "    b3 = tf.get_variable(name=\"b3\", shape=[100], dtype = tf.float32, initializer=tf.constant_initializer(0.1))\n",
    "    # calculate the output of the hidden layer activation function is ReLu\n",
    "    out3 = tf.nn.relu((tf.matmul(out2, W3) + b3))\n",
    "    \n",
    "    #Output layer \n",
    "    W4 = tf.get_variable(name=\"W4\", shape=[100, 10], dtype = tf.float32, initializer=tf.contrib.layers.xavier_initializer(30))\n",
    "    b4 = tf.get_variable(name=\"b4\", shape=[10], dtype = tf.float32, initializer=tf.constant_initializer(0.1))\n",
    "    logits = tf.matmul(out3, W4) + b4\n",
    "    \n",
    "    #Accuracy\n",
    "    preds = tf.argmax(logits, axis = 1)\n",
    "    truth = tf.argmax(Y, axis = 1)\n",
    "    match = tf.cast(tf.equal(preds, truth), tf.float32)\n",
    "    acc = tf.reduce_mean(match)\n",
    "    \n",
    "    loss = tf.reduce_mean(tf.nn.softmax_cross_entropy_with_logits_v2(\n",
    "        logits=logits, labels=Y))\n",
    "    \n",
    "    step = tf.train.AdamOptimizer().minimize(loss)"
   ]
  },
  {
   "cell_type": "code",
   "execution_count": 161,
   "metadata": {},
   "outputs": [],
   "source": [
    "sess = tf.InteractiveSession(graph=g)\n",
    "tf.global_variables_initializer().run()"
   ]
  },
  {
   "cell_type": "code",
   "execution_count": 162,
   "metadata": {},
   "outputs": [
    {
     "name": "stdout",
     "output_type": "stream",
     "text": [
      "5940) acc: 0.9810\r"
     ]
    }
   ],
   "source": [
    "acc_list = []\n",
    "epoch_list = []\n",
    "batch_size = 1000\n",
    "start_time = time.time()\n",
    "for i in range(6000):\n",
    "    x, y = fashion_mnist.train.next_batch(batch_size)\n",
    "    _, acc_ = sess.run([step, acc], feed_dict={X: x, Y: y})    \n",
    "    if i % 60 == 0: \n",
    "        epoch_list.append(i / 60)\n",
    "        acc_list.append(acc_)\n",
    "        print('%d) acc: %2.4f' % (i,acc_), end='\\r')\n",
    "processing_time = time.time() - start_time"
   ]
  },
  {
   "cell_type": "code",
   "execution_count": 167,
   "metadata": {},
   "outputs": [
    {
     "name": "stdout",
     "output_type": "stream",
     "text": [
      "--- 164.49411344528198 seconds ---\n"
     ]
    }
   ],
   "source": [
    "print(\"--- %s seconds ---\" % (processing_time))"
   ]
  },
  {
   "cell_type": "code",
   "execution_count": 164,
   "metadata": {},
   "outputs": [
    {
     "data": {
      "image/png": "[encoded data removed]",
      "text/plain": [
       "<matplotlib.figure.Figure at 0x2aab4860>"
      ]
     },
     "metadata": {},
     "output_type": "display_data"
    }
   ],
   "source": [
    "fig = plt.figure()\n",
    "plt.plot(epoch_list, acc_list)\n",
    "fig.suptitle('Test 3 - 3 Hidden Layer each has 100 Neuron', fontsize=20)\n",
    "plt.xlabel('Number of Epochs', fontsize=16)\n",
    "plt.ylabel('Accuracy', fontsize=16)\n",
    "fig.savefig('test3.jpg')\n",
    "plt.show()"
   ]
  },
  {
   "cell_type": "code",
   "execution_count": 168,
   "metadata": {},
   "outputs": [
    {
     "data": {
      "text/plain": [
       "0.97858334"
      ]
     },
     "execution_count": 168,
     "metadata": {},
     "output_type": "execute_result"
    }
   ],
   "source": [
    "#Test the network as a whole, not as batches\n",
    "sess.run(acc, feed_dict={X:fashion_mnist.train.images, Y:fashion_mnist.train.labels})"
   ]
  },
  {
   "cell_type": "code",
   "execution_count": 169,
   "metadata": {},
   "outputs": [
    {
     "data": {
      "text/plain": [
       "0.8786"
      ]
     },
     "execution_count": 169,
     "metadata": {},
     "output_type": "execute_result"
    }
   ],
   "source": [
    "#Now test our trained network with the test data\n",
    "sess.run(acc, feed_dict={X:fashion_mnist.test.images, Y:fashion_mnist.test.labels})"
   ]
  },
  {
   "cell_type": "code",
   "execution_count": null,
   "metadata": {},
   "outputs": [],
   "source": []
  }
 ],
 "metadata": {
  "kernelspec": {
   "display_name": "Python 3",
   "language": "python",
   "name": "python3"
  },
  "language_info": {
   "codemirror_mode": {
    "name": "ipython",
    "version": 3
   },
   "file_extension": ".py",
   "mimetype": "text/x-python",
   "name": "python",
   "nbconvert_exporter": "python",
   "pygments_lexer": "ipython3",
   "version": "3.6.4"
  }
 },
 "nbformat": 4,
 "nbformat_minor": 2
}
